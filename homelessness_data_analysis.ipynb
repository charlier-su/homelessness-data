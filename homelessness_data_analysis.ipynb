{
  "nbformat": 4,
  "nbformat_minor": 0,
  "metadata": {
    "colab": {
      "provenance": []
    },
    "kernelspec": {
      "name": "python3",
      "display_name": "Python 3"
    },
    "language_info": {
      "name": "python"
    }
  },
  "cells": [
    {
      "cell_type": "markdown",
      "source": [
        "## Introduction"
      ],
      "metadata": {
        "id": "cOSJyABoshOK"
      }
    },
    {
      "cell_type": "markdown",
      "source": [
        "In this notebook, the relationships between homelessness and data about the area (e.g. local housing market factors and demographics) will be investigated using data science methodologies."
      ],
      "metadata": {
        "id": "26hIPGtBsi7g"
      }
    },
    {
      "cell_type": "markdown",
      "source": [
        "## Import libraries"
      ],
      "metadata": {
        "id": "dwvtDMCYlPus"
      }
    },
    {
      "cell_type": "code",
      "execution_count": 26,
      "metadata": {
        "id": "DQZAzYri_ru5"
      },
      "outputs": [],
      "source": [
        "import pandas as pd\n",
        "import numpy as np\n",
        "import matplotlib.pyplot as plt\n",
        "import seaborn as sns\n",
        "sns.set_theme(style='whitegrid')\n",
        "\n",
        "import statsmodels.api as sm\n",
        "\n",
        "from sklearn import tree\n",
        "from sklearn.linear_model import LinearRegression, RidgeCV, LassoCV, Ridge, Lasso\n",
        "from sklearn.metrics import mean_absolute_error, mean_squared_error, r2_score\n",
        "from sklearn.model_selection import KFold, RandomizedSearchCV, train_test_split\n",
        "from sklearn.preprocessing import RobustScaler\n",
        "\n",
        "from functools import partial\n",
        "\n",
        "import graphviz\n",
        "\n",
        "from scipy.stats import uniform, randint\n",
        "import xgboost as xgb"
      ]
    },
    {
      "cell_type": "markdown",
      "source": [
        "## Load clean data"
      ],
      "metadata": {
        "id": "gm4P0PathHWa"
      }
    },
    {
      "cell_type": "markdown",
      "source": [
        "The data set imported by this notebook comes from from the US Department of Housing and Urban Development. Details about this data are available in the HUD's report [Market Predictors of Homelessness](https://www.huduser.gov/portal/sites/default/files/pdf/Market-Predictors-of-Homelessness.pdf) in the section titled DATA.\n",
        "\n",
        "The data preparation was documented in the [data preparation notebook](https://github.com/charlier-su/homelessness-data/blob/main/homelessness_data_preparation.ipynb). The prepared data set is available as a csv file in the GitHub repository as [homelessness_data_clean.csv](https://github.com/charlier-su/homelessness-data/blob/main/homelessness_data_clean.csv). Here, it is imported into the notebook:"
      ],
      "metadata": {
        "id": "3f5ZlncEy6_-"
      }
    },
    {
      "cell_type": "code",
      "source": [
        "df = pd.read_csv('https://raw.githubusercontent.com/charlier-su/homelessness-data/main/homelessness_data_clean.csv')"
      ],
      "metadata": {
        "id": "gUJV9NjM4nng"
      },
      "execution_count": 27,
      "outputs": []
    },
    {
      "cell_type": "code",
      "source": [
        "df.info()"
      ],
      "metadata": {
        "colab": {
          "base_uri": "https://localhost:8080/"
        },
        "id": "N-JEhnH3k-ng",
        "outputId": "315c2d2c-3c74-4b50-86be-26eee5f809a0"
      },
      "execution_count": 28,
      "outputs": [
        {
          "output_type": "stream",
          "name": "stdout",
          "text": [
            "<class 'pandas.core.frame.DataFrame'>\n",
            "RangeIndex: 374 entries, 0 to 373\n",
            "Data columns (total 44 columns):\n",
            " #   Column                                      Non-Null Count  Dtype  \n",
            "---  ------                                      --------------  -----  \n",
            " 0   coc_number                                  374 non-null    object \n",
            " 1   total_population                            374 non-null    int64  \n",
            " 2   house_price_index_2009                      374 non-null    float64\n",
            " 3   log_median_rent                             374 non-null    float64\n",
            " 4   utility_costs                               374 non-null    float64\n",
            " 5   percentage_owners_cost_burden_2016          374 non-null    float64\n",
            " 6   percentage_renters_severe_cost_burden_2016  374 non-null    float64\n",
            " 7   share_renters_2016                          374 non-null    float64\n",
            " 8   rental_vacancy_rate                         374 non-null    float64\n",
            " 9   high_housing_density                        374 non-null    int64  \n",
            " 10  number_eviction                             374 non-null    int64  \n",
            " 11  share_overcrowded_units_2016                374 non-null    float64\n",
            " 12  city_or_urban                               374 non-null    int64  \n",
            " 13  suburban                                    374 non-null    int64  \n",
            " 14  rate_unemployment                           374 non-null    float64\n",
            " 15  gini_coefficient_2016                       374 non-null    float64\n",
            " 16  poverty_rate                                374 non-null    float64\n",
            " 17  share_hud_units                             374 non-null    float64\n",
            " 18  HUD_unit_occupancy_rate                     374 non-null    float64\n",
            " 19  share_built_before_1940                     374 non-null    float64\n",
            " 20  net_migration                               374 non-null    int64  \n",
            " 21  migration_4_year_change                     374 non-null    float64\n",
            " 22  proportion_one_person_households            374 non-null    float64\n",
            " 23  share_under_18_with_single_parent           374 non-null    float64\n",
            " 24  share_veteran_status                        374 non-null    float64\n",
            " 25  share_no_bachelors                          374 non-null    float64\n",
            " 26  medicare_reimbursements_per_enrollee        374 non-null    float64\n",
            " 27  percentage_excessive_drinking               374 non-null    float64\n",
            " 28  average_jan_temperature                     374 non-null    float64\n",
            " 29  average_summer_temperature                  374 non-null    float64\n",
            " 30  total_jan_precipitation                     374 non-null    float64\n",
            " 31  total_annual_precipitation                  374 non-null    float64\n",
            " 32  federal_funding                             374 non-null    float64\n",
            " 33  federal_funding_change                      374 non-null    float64\n",
            " 34  rate_black                                  374 non-null    float64\n",
            " 35  rate_latino_hispanic                        374 non-null    float64\n",
            " 36  rate_asian                                  374 non-null    float64\n",
            " 37  rate_pacific_islander                       374 non-null    float64\n",
            " 38  rate_age_0_19                               374 non-null    float64\n",
            " 39  rate_age_65_plus                            374 non-null    float64\n",
            " 40  rate_female                                 374 non-null    float64\n",
            " 41  rate_homeless                               374 non-null    float64\n",
            " 42  rate_sheltered                              374 non-null    float64\n",
            " 43  rate_unsheltered                            374 non-null    float64\n",
            "dtypes: float64(37), int64(6), object(1)\n",
            "memory usage: 128.7+ KB\n"
          ]
        }
      ]
    },
    {
      "cell_type": "markdown",
      "source": [
        "Above is a list of columns that we have available to us. We can see that there are 374 entries in the data set."
      ],
      "metadata": {
        "id": "5_9asw4wlLzs"
      }
    },
    {
      "cell_type": "markdown",
      "source": [
        "## Questions"
      ],
      "metadata": {
        "id": "bObnX61C95DL"
      }
    },
    {
      "cell_type": "markdown",
      "source": [
        "- What types of models are most effective for predicting homelessness rates?\n",
        "- Could federal funding (or lack of federal funding) contribute to homelessness rates?\n",
        "- What factors have the closest relationship with homelessness rates?\n",
        "  - More specifically, what predictors are most effective for estimating homelessness rates?"
      ],
      "metadata": {
        "id": "RnmjIKMJ99dJ"
      }
    },
    {
      "cell_type": "markdown",
      "source": [
        "## Analysis"
      ],
      "metadata": {
        "id": "bkTA97Z7QgpH"
      }
    },
    {
      "cell_type": "markdown",
      "source": [
        "Our first set of predictors will be all columns, other than the identifier (`coc_number`), values directly related to what we are trying to predict (`rate_homeless`, `rate_sheltered`, and `rate_unsheltered`), and values we are saving for later (`federal_funding` and `federal_funding_change`)."
      ],
      "metadata": {
        "id": "fXVTR1fy8eT_"
      }
    },
    {
      "cell_type": "code",
      "source": [
        "identifiers = ['coc_number']\n",
        "outcomes = ['rate_homeless', 'rate_sheltered', 'rate_unsheltered']\n",
        "additional_step = ['federal_funding', 'federal_funding_change']\n",
        "X = df.drop(columns = identifiers + outcomes + additional_step)\n",
        "y = df['rate_homeless']"
      ],
      "metadata": {
        "id": "bp-S6mmRQhnh"
      },
      "execution_count": 29,
      "outputs": []
    },
    {
      "cell_type": "markdown",
      "source": [
        "Before we build the models, the training data is scaled."
      ],
      "metadata": {
        "id": "vKOC2Uhr8z-F"
      }
    },
    {
      "cell_type": "code",
      "source": [
        "scaler = RobustScaler().fit(X)\n",
        "X = pd.DataFrame(data=scaler.transform(X), columns=X.columns.values, index=X.index)"
      ],
      "metadata": {
        "id": "bTmYspFb84eJ"
      },
      "execution_count": 30,
      "outputs": []
    },
    {
      "cell_type": "markdown",
      "source": [
        "Next, an OLS regression is made, so we can look at the significance of the coefficients:"
      ],
      "metadata": {
        "id": "xAcZYm2P9LAq"
      }
    },
    {
      "cell_type": "code",
      "source": [
        "ols_model = sm.OLS(y, sm.add_constant(X)).fit()\n",
        "\n",
        "predictors = X.columns\n",
        "predictors = np.insert(predictors, 0, 'intercept')\n",
        "\n",
        "results = pd.DataFrame(index = predictors, \n",
        "                       data = {\n",
        "                          'p-value': ols_model.pvalues.values.round(3), \n",
        "                          'significant': ols_model.pvalues.values < 0.05,\n",
        "                          'coefficient': ols_model.params.values.round(2),\n",
        "                          'abs_coefficient': \\\n",
        "                              np.abs(ols_model.params.values.round(2))\n",
        "                       })\n",
        "\n",
        "results.sort_values(by = 'abs_coefficient', ascending=False)"
      ],
      "metadata": {
        "colab": {
          "base_uri": "https://localhost:8080/",
          "height": 1000
        },
        "id": "lyAccc62899L",
        "outputId": "a0ca5a0b-4e72-4a91-b9eb-3fed9fdca37c"
      },
      "execution_count": 31,
      "outputs": [
        {
          "output_type": "execute_result",
          "data": {
            "text/plain": [
              "                                            p-value  significant  coefficient  \\\n",
              "intercept                                     0.000         True        16.01   \n",
              "log_median_rent                               0.000         True        11.18   \n",
              "proportion_one_person_households              0.000         True         6.51   \n",
              "rate_black                                    0.013         True        -4.48   \n",
              "share_hud_units                               0.003         True         4.37   \n",
              "suburban                                      0.063        False        -3.82   \n",
              "high_housing_density                          0.111        False        -3.22   \n",
              "share_overcrowded_units_2016                  0.028         True         2.86   \n",
              "migration_4_year_change                       0.000         True         2.64   \n",
              "share_under_18_with_single_parent             0.310        False         2.50   \n",
              "poverty_rate                                  0.389        False        -2.22   \n",
              "share_no_bachelors                            0.449        False         1.98   \n",
              "total_jan_precipitation                       0.000         True         1.91   \n",
              "average_jan_temperature                       0.519        False         1.66   \n",
              "rate_unemployment                             0.028         True         1.65   \n",
              "house_price_index_2009                        0.102        False         1.64   \n",
              "rate_female                                   0.166        False        -1.62   \n",
              "rate_latino_hispanic                          0.219        False        -1.55   \n",
              "rate_asian                                    0.033         True        -1.54   \n",
              "share_renters_2016                            0.520        False         1.43   \n",
              "utility_costs                                 0.451        False        -0.99   \n",
              "medicare_reimbursements_per_enrollee          0.505        False        -0.85   \n",
              "average_summer_temperature                    0.712        False         0.82   \n",
              "number_eviction                               0.178        False         0.74   \n",
              "city_or_urban                                 0.746        False        -0.72   \n",
              "share_built_before_1940                       0.651        False         0.71   \n",
              "HUD_unit_occupancy_rate                       0.332        False        -0.71   \n",
              "percentage_owners_cost_burden_2016            0.753        False        -0.66   \n",
              "percentage_excessive_drinking                 0.556        False         0.64   \n",
              "total_annual_precipitation                    0.420        False         0.55   \n",
              "gini_coefficient_2016                         0.694        False         0.55   \n",
              "net_migration                                 0.137        False        -0.52   \n",
              "share_veteran_status                          0.729        False        -0.40   \n",
              "rate_age_65_plus                              0.850        False        -0.38   \n",
              "total_population                              0.646        False        -0.25   \n",
              "rate_age_0_19                                 0.883        False         0.24   \n",
              "rate_pacific_islander                         0.019         True         0.23   \n",
              "percentage_renters_severe_cost_burden_2016    0.862        False         0.22   \n",
              "rental_vacancy_rate                           0.921        False        -0.08   \n",
              "\n",
              "                                            abs_coefficient  \n",
              "intercept                                             16.01  \n",
              "log_median_rent                                       11.18  \n",
              "proportion_one_person_households                       6.51  \n",
              "rate_black                                             4.48  \n",
              "share_hud_units                                        4.37  \n",
              "suburban                                               3.82  \n",
              "high_housing_density                                   3.22  \n",
              "share_overcrowded_units_2016                           2.86  \n",
              "migration_4_year_change                                2.64  \n",
              "share_under_18_with_single_parent                      2.50  \n",
              "poverty_rate                                           2.22  \n",
              "share_no_bachelors                                     1.98  \n",
              "total_jan_precipitation                                1.91  \n",
              "average_jan_temperature                                1.66  \n",
              "rate_unemployment                                      1.65  \n",
              "house_price_index_2009                                 1.64  \n",
              "rate_female                                            1.62  \n",
              "rate_latino_hispanic                                   1.55  \n",
              "rate_asian                                             1.54  \n",
              "share_renters_2016                                     1.43  \n",
              "utility_costs                                          0.99  \n",
              "medicare_reimbursements_per_enrollee                   0.85  \n",
              "average_summer_temperature                             0.82  \n",
              "number_eviction                                        0.74  \n",
              "city_or_urban                                          0.72  \n",
              "share_built_before_1940                                0.71  \n",
              "HUD_unit_occupancy_rate                                0.71  \n",
              "percentage_owners_cost_burden_2016                     0.66  \n",
              "percentage_excessive_drinking                          0.64  \n",
              "total_annual_precipitation                             0.55  \n",
              "gini_coefficient_2016                                  0.55  \n",
              "net_migration                                          0.52  \n",
              "share_veteran_status                                   0.40  \n",
              "rate_age_65_plus                                       0.38  \n",
              "total_population                                       0.25  \n",
              "rate_age_0_19                                          0.24  \n",
              "rate_pacific_islander                                  0.23  \n",
              "percentage_renters_severe_cost_burden_2016             0.22  \n",
              "rental_vacancy_rate                                    0.08  "
            ],
            "text/html": [
              "\n",
              "  <div id=\"df-32b25826-63b7-4d9e-8e3a-dc95c7febadc\">\n",
              "    <div class=\"colab-df-container\">\n",
              "      <div>\n",
              "<style scoped>\n",
              "    .dataframe tbody tr th:only-of-type {\n",
              "        vertical-align: middle;\n",
              "    }\n",
              "\n",
              "    .dataframe tbody tr th {\n",
              "        vertical-align: top;\n",
              "    }\n",
              "\n",
              "    .dataframe thead th {\n",
              "        text-align: right;\n",
              "    }\n",
              "</style>\n",
              "<table border=\"1\" class=\"dataframe\">\n",
              "  <thead>\n",
              "    <tr style=\"text-align: right;\">\n",
              "      <th></th>\n",
              "      <th>p-value</th>\n",
              "      <th>significant</th>\n",
              "      <th>coefficient</th>\n",
              "      <th>abs_coefficient</th>\n",
              "    </tr>\n",
              "  </thead>\n",
              "  <tbody>\n",
              "    <tr>\n",
              "      <th>intercept</th>\n",
              "      <td>0.000</td>\n",
              "      <td>True</td>\n",
              "      <td>16.01</td>\n",
              "      <td>16.01</td>\n",
              "    </tr>\n",
              "    <tr>\n",
              "      <th>log_median_rent</th>\n",
              "      <td>0.000</td>\n",
              "      <td>True</td>\n",
              "      <td>11.18</td>\n",
              "      <td>11.18</td>\n",
              "    </tr>\n",
              "    <tr>\n",
              "      <th>proportion_one_person_households</th>\n",
              "      <td>0.000</td>\n",
              "      <td>True</td>\n",
              "      <td>6.51</td>\n",
              "      <td>6.51</td>\n",
              "    </tr>\n",
              "    <tr>\n",
              "      <th>rate_black</th>\n",
              "      <td>0.013</td>\n",
              "      <td>True</td>\n",
              "      <td>-4.48</td>\n",
              "      <td>4.48</td>\n",
              "    </tr>\n",
              "    <tr>\n",
              "      <th>share_hud_units</th>\n",
              "      <td>0.003</td>\n",
              "      <td>True</td>\n",
              "      <td>4.37</td>\n",
              "      <td>4.37</td>\n",
              "    </tr>\n",
              "    <tr>\n",
              "      <th>suburban</th>\n",
              "      <td>0.063</td>\n",
              "      <td>False</td>\n",
              "      <td>-3.82</td>\n",
              "      <td>3.82</td>\n",
              "    </tr>\n",
              "    <tr>\n",
              "      <th>high_housing_density</th>\n",
              "      <td>0.111</td>\n",
              "      <td>False</td>\n",
              "      <td>-3.22</td>\n",
              "      <td>3.22</td>\n",
              "    </tr>\n",
              "    <tr>\n",
              "      <th>share_overcrowded_units_2016</th>\n",
              "      <td>0.028</td>\n",
              "      <td>True</td>\n",
              "      <td>2.86</td>\n",
              "      <td>2.86</td>\n",
              "    </tr>\n",
              "    <tr>\n",
              "      <th>migration_4_year_change</th>\n",
              "      <td>0.000</td>\n",
              "      <td>True</td>\n",
              "      <td>2.64</td>\n",
              "      <td>2.64</td>\n",
              "    </tr>\n",
              "    <tr>\n",
              "      <th>share_under_18_with_single_parent</th>\n",
              "      <td>0.310</td>\n",
              "      <td>False</td>\n",
              "      <td>2.50</td>\n",
              "      <td>2.50</td>\n",
              "    </tr>\n",
              "    <tr>\n",
              "      <th>poverty_rate</th>\n",
              "      <td>0.389</td>\n",
              "      <td>False</td>\n",
              "      <td>-2.22</td>\n",
              "      <td>2.22</td>\n",
              "    </tr>\n",
              "    <tr>\n",
              "      <th>share_no_bachelors</th>\n",
              "      <td>0.449</td>\n",
              "      <td>False</td>\n",
              "      <td>1.98</td>\n",
              "      <td>1.98</td>\n",
              "    </tr>\n",
              "    <tr>\n",
              "      <th>total_jan_precipitation</th>\n",
              "      <td>0.000</td>\n",
              "      <td>True</td>\n",
              "      <td>1.91</td>\n",
              "      <td>1.91</td>\n",
              "    </tr>\n",
              "    <tr>\n",
              "      <th>average_jan_temperature</th>\n",
              "      <td>0.519</td>\n",
              "      <td>False</td>\n",
              "      <td>1.66</td>\n",
              "      <td>1.66</td>\n",
              "    </tr>\n",
              "    <tr>\n",
              "      <th>rate_unemployment</th>\n",
              "      <td>0.028</td>\n",
              "      <td>True</td>\n",
              "      <td>1.65</td>\n",
              "      <td>1.65</td>\n",
              "    </tr>\n",
              "    <tr>\n",
              "      <th>house_price_index_2009</th>\n",
              "      <td>0.102</td>\n",
              "      <td>False</td>\n",
              "      <td>1.64</td>\n",
              "      <td>1.64</td>\n",
              "    </tr>\n",
              "    <tr>\n",
              "      <th>rate_female</th>\n",
              "      <td>0.166</td>\n",
              "      <td>False</td>\n",
              "      <td>-1.62</td>\n",
              "      <td>1.62</td>\n",
              "    </tr>\n",
              "    <tr>\n",
              "      <th>rate_latino_hispanic</th>\n",
              "      <td>0.219</td>\n",
              "      <td>False</td>\n",
              "      <td>-1.55</td>\n",
              "      <td>1.55</td>\n",
              "    </tr>\n",
              "    <tr>\n",
              "      <th>rate_asian</th>\n",
              "      <td>0.033</td>\n",
              "      <td>True</td>\n",
              "      <td>-1.54</td>\n",
              "      <td>1.54</td>\n",
              "    </tr>\n",
              "    <tr>\n",
              "      <th>share_renters_2016</th>\n",
              "      <td>0.520</td>\n",
              "      <td>False</td>\n",
              "      <td>1.43</td>\n",
              "      <td>1.43</td>\n",
              "    </tr>\n",
              "    <tr>\n",
              "      <th>utility_costs</th>\n",
              "      <td>0.451</td>\n",
              "      <td>False</td>\n",
              "      <td>-0.99</td>\n",
              "      <td>0.99</td>\n",
              "    </tr>\n",
              "    <tr>\n",
              "      <th>medicare_reimbursements_per_enrollee</th>\n",
              "      <td>0.505</td>\n",
              "      <td>False</td>\n",
              "      <td>-0.85</td>\n",
              "      <td>0.85</td>\n",
              "    </tr>\n",
              "    <tr>\n",
              "      <th>average_summer_temperature</th>\n",
              "      <td>0.712</td>\n",
              "      <td>False</td>\n",
              "      <td>0.82</td>\n",
              "      <td>0.82</td>\n",
              "    </tr>\n",
              "    <tr>\n",
              "      <th>number_eviction</th>\n",
              "      <td>0.178</td>\n",
              "      <td>False</td>\n",
              "      <td>0.74</td>\n",
              "      <td>0.74</td>\n",
              "    </tr>\n",
              "    <tr>\n",
              "      <th>city_or_urban</th>\n",
              "      <td>0.746</td>\n",
              "      <td>False</td>\n",
              "      <td>-0.72</td>\n",
              "      <td>0.72</td>\n",
              "    </tr>\n",
              "    <tr>\n",
              "      <th>share_built_before_1940</th>\n",
              "      <td>0.651</td>\n",
              "      <td>False</td>\n",
              "      <td>0.71</td>\n",
              "      <td>0.71</td>\n",
              "    </tr>\n",
              "    <tr>\n",
              "      <th>HUD_unit_occupancy_rate</th>\n",
              "      <td>0.332</td>\n",
              "      <td>False</td>\n",
              "      <td>-0.71</td>\n",
              "      <td>0.71</td>\n",
              "    </tr>\n",
              "    <tr>\n",
              "      <th>percentage_owners_cost_burden_2016</th>\n",
              "      <td>0.753</td>\n",
              "      <td>False</td>\n",
              "      <td>-0.66</td>\n",
              "      <td>0.66</td>\n",
              "    </tr>\n",
              "    <tr>\n",
              "      <th>percentage_excessive_drinking</th>\n",
              "      <td>0.556</td>\n",
              "      <td>False</td>\n",
              "      <td>0.64</td>\n",
              "      <td>0.64</td>\n",
              "    </tr>\n",
              "    <tr>\n",
              "      <th>total_annual_precipitation</th>\n",
              "      <td>0.420</td>\n",
              "      <td>False</td>\n",
              "      <td>0.55</td>\n",
              "      <td>0.55</td>\n",
              "    </tr>\n",
              "    <tr>\n",
              "      <th>gini_coefficient_2016</th>\n",
              "      <td>0.694</td>\n",
              "      <td>False</td>\n",
              "      <td>0.55</td>\n",
              "      <td>0.55</td>\n",
              "    </tr>\n",
              "    <tr>\n",
              "      <th>net_migration</th>\n",
              "      <td>0.137</td>\n",
              "      <td>False</td>\n",
              "      <td>-0.52</td>\n",
              "      <td>0.52</td>\n",
              "    </tr>\n",
              "    <tr>\n",
              "      <th>share_veteran_status</th>\n",
              "      <td>0.729</td>\n",
              "      <td>False</td>\n",
              "      <td>-0.40</td>\n",
              "      <td>0.40</td>\n",
              "    </tr>\n",
              "    <tr>\n",
              "      <th>rate_age_65_plus</th>\n",
              "      <td>0.850</td>\n",
              "      <td>False</td>\n",
              "      <td>-0.38</td>\n",
              "      <td>0.38</td>\n",
              "    </tr>\n",
              "    <tr>\n",
              "      <th>total_population</th>\n",
              "      <td>0.646</td>\n",
              "      <td>False</td>\n",
              "      <td>-0.25</td>\n",
              "      <td>0.25</td>\n",
              "    </tr>\n",
              "    <tr>\n",
              "      <th>rate_age_0_19</th>\n",
              "      <td>0.883</td>\n",
              "      <td>False</td>\n",
              "      <td>0.24</td>\n",
              "      <td>0.24</td>\n",
              "    </tr>\n",
              "    <tr>\n",
              "      <th>rate_pacific_islander</th>\n",
              "      <td>0.019</td>\n",
              "      <td>True</td>\n",
              "      <td>0.23</td>\n",
              "      <td>0.23</td>\n",
              "    </tr>\n",
              "    <tr>\n",
              "      <th>percentage_renters_severe_cost_burden_2016</th>\n",
              "      <td>0.862</td>\n",
              "      <td>False</td>\n",
              "      <td>0.22</td>\n",
              "      <td>0.22</td>\n",
              "    </tr>\n",
              "    <tr>\n",
              "      <th>rental_vacancy_rate</th>\n",
              "      <td>0.921</td>\n",
              "      <td>False</td>\n",
              "      <td>-0.08</td>\n",
              "      <td>0.08</td>\n",
              "    </tr>\n",
              "  </tbody>\n",
              "</table>\n",
              "</div>\n",
              "      <button class=\"colab-df-convert\" onclick=\"convertToInteractive('df-32b25826-63b7-4d9e-8e3a-dc95c7febadc')\"\n",
              "              title=\"Convert this dataframe to an interactive table.\"\n",
              "              style=\"display:none;\">\n",
              "        \n",
              "  <svg xmlns=\"http://www.w3.org/2000/svg\" height=\"24px\"viewBox=\"0 0 24 24\"\n",
              "       width=\"24px\">\n",
              "    <path d=\"M0 0h24v24H0V0z\" fill=\"none\"/>\n",
              "    <path d=\"M18.56 5.44l.94 2.06.94-2.06 2.06-.94-2.06-.94-.94-2.06-.94 2.06-2.06.94zm-11 1L8.5 8.5l.94-2.06 2.06-.94-2.06-.94L8.5 2.5l-.94 2.06-2.06.94zm10 10l.94 2.06.94-2.06 2.06-.94-2.06-.94-.94-2.06-.94 2.06-2.06.94z\"/><path d=\"M17.41 7.96l-1.37-1.37c-.4-.4-.92-.59-1.43-.59-.52 0-1.04.2-1.43.59L10.3 9.45l-7.72 7.72c-.78.78-.78 2.05 0 2.83L4 21.41c.39.39.9.59 1.41.59.51 0 1.02-.2 1.41-.59l7.78-7.78 2.81-2.81c.8-.78.8-2.07 0-2.86zM5.41 20L4 18.59l7.72-7.72 1.47 1.35L5.41 20z\"/>\n",
              "  </svg>\n",
              "      </button>\n",
              "      \n",
              "  <style>\n",
              "    .colab-df-container {\n",
              "      display:flex;\n",
              "      flex-wrap:wrap;\n",
              "      gap: 12px;\n",
              "    }\n",
              "\n",
              "    .colab-df-convert {\n",
              "      background-color: #E8F0FE;\n",
              "      border: none;\n",
              "      border-radius: 50%;\n",
              "      cursor: pointer;\n",
              "      display: none;\n",
              "      fill: #1967D2;\n",
              "      height: 32px;\n",
              "      padding: 0 0 0 0;\n",
              "      width: 32px;\n",
              "    }\n",
              "\n",
              "    .colab-df-convert:hover {\n",
              "      background-color: #E2EBFA;\n",
              "      box-shadow: 0px 1px 2px rgba(60, 64, 67, 0.3), 0px 1px 3px 1px rgba(60, 64, 67, 0.15);\n",
              "      fill: #174EA6;\n",
              "    }\n",
              "\n",
              "    [theme=dark] .colab-df-convert {\n",
              "      background-color: #3B4455;\n",
              "      fill: #D2E3FC;\n",
              "    }\n",
              "\n",
              "    [theme=dark] .colab-df-convert:hover {\n",
              "      background-color: #434B5C;\n",
              "      box-shadow: 0px 1px 3px 1px rgba(0, 0, 0, 0.15);\n",
              "      filter: drop-shadow(0px 1px 2px rgba(0, 0, 0, 0.3));\n",
              "      fill: #FFFFFF;\n",
              "    }\n",
              "  </style>\n",
              "\n",
              "      <script>\n",
              "        const buttonEl =\n",
              "          document.querySelector('#df-32b25826-63b7-4d9e-8e3a-dc95c7febadc button.colab-df-convert');\n",
              "        buttonEl.style.display =\n",
              "          google.colab.kernel.accessAllowed ? 'block' : 'none';\n",
              "\n",
              "        async function convertToInteractive(key) {\n",
              "          const element = document.querySelector('#df-32b25826-63b7-4d9e-8e3a-dc95c7febadc');\n",
              "          const dataTable =\n",
              "            await google.colab.kernel.invokeFunction('convertToInteractive',\n",
              "                                                     [key], {});\n",
              "          if (!dataTable) return;\n",
              "\n",
              "          const docLinkHtml = 'Like what you see? Visit the ' +\n",
              "            '<a target=\"_blank\" href=https://colab.research.google.com/notebooks/data_table.ipynb>data table notebook</a>'\n",
              "            + ' to learn more about interactive tables.';\n",
              "          element.innerHTML = '';\n",
              "          dataTable['output_type'] = 'display_data';\n",
              "          await google.colab.output.renderOutput(dataTable, element);\n",
              "          const docLink = document.createElement('div');\n",
              "          docLink.innerHTML = docLinkHtml;\n",
              "          element.appendChild(docLink);\n",
              "        }\n",
              "      </script>\n",
              "    </div>\n",
              "  </div>\n",
              "  "
            ]
          },
          "metadata": {},
          "execution_count": 31
        }
      ]
    },
    {
      "cell_type": "markdown",
      "source": [
        "We have a lot of predictors and not a lot of entries to work with. Also, we know that there are plenty of entries that are unusual, so we need to be careful about the train/test split. Whenever we want to benchmark a model, we'll use k-fold cross validation so that the train/test splits are less likely to affect the results."
      ],
      "metadata": {
        "id": "LXe49tK9AFBR"
      }
    },
    {
      "cell_type": "code",
      "source": [
        "def make_splits(X, y):\n",
        "    kf = KFold(n_splits = 10)\n",
        "    for train_index, test_index in kf.split(X):\n",
        "        X_train = X.iloc[train_index,:]\n",
        "        y_train = y.iloc[train_index]\n",
        "\n",
        "        X_test = X.iloc[test_index,:]\n",
        "        y_test = y.iloc[test_index]\n",
        "\n",
        "        yield X_train, y_train, X_test, y_test"
      ],
      "metadata": {
        "id": "DsGkOgfEAzOv"
      },
      "execution_count": 32,
      "outputs": []
    },
    {
      "cell_type": "markdown",
      "source": [
        "For any model we create, we'll want to see the MSE, RMSE, and MAE (mean absolute error)."
      ],
      "metadata": {
        "id": "5W7Rc6ZGDUMv"
      }
    },
    {
      "cell_type": "code",
      "source": [
        "def evaluate_model(X_train, y_train, X_test, y_test, model_from_train,\n",
        "                   prediction_from_model):\n",
        "    model = model_from_train(X_train, y_train)\n",
        "    y_pred = prediction_from_model(model, X_test)\n",
        "    \n",
        "    mse = mean_squared_error(y_test, y_pred)\n",
        "    rmse = np.sqrt(mse)\n",
        "    mae = mean_absolute_error(y_test, y_pred)\n",
        "\n",
        "    return mse, rmse, mae\n",
        "\n",
        "def show_model_performance(X, y, model_from_train, prediction_from_model):\n",
        "    mse_values = []\n",
        "    rmse_values = []\n",
        "    mae_values = []\n",
        "\n",
        "    for X_train, y_train, X_test, y_test in make_splits(X, y):\n",
        "        mse, rmse, mae = evaluate_model(X_train, y_train, X_test,\n",
        "                                        y_test, model_from_train,\n",
        "                                        prediction_from_model)\n",
        "        \n",
        "        mse_values.append(mse)\n",
        "        rmse_values.append(rmse)\n",
        "        mae_values.append(mae)\n",
        "\n",
        "    mse, rmse, mae = evaluate_model(X, y, X, y, model_from_train,\n",
        "                                    prediction_from_model)\n",
        "    print('Without train/test CV:')\n",
        "    print(f'MSE: {mse}')\n",
        "    print(f'RMSE: {rmse}')\n",
        "    print(f'MAE: {mae}')\n",
        "    print()\n",
        "    print('With train/test CV:')\n",
        "    print(f'MSE: {np.mean(mse_values)}')\n",
        "    print(f'RMSE: {np.mean(rmse_values)}')\n",
        "    print(f'MAE: {np.mean(mae_values)}')"
      ],
      "metadata": {
        "id": "zhqkNuR4DeG1"
      },
      "execution_count": 33,
      "outputs": []
    },
    {
      "cell_type": "markdown",
      "source": [
        "Let's look at our OLS regression:"
      ],
      "metadata": {
        "id": "CEhibaj6ExiQ"
      }
    },
    {
      "cell_type": "code",
      "source": [
        "def ols_model(X_train, y_train):\n",
        "    return sm.OLS(y_train, sm.add_constant(X_train)).fit()\n",
        "\n",
        "def ols_prediction(model, X_test):\n",
        "    return model.predict(sm.add_constant(X_test))\n",
        "\n",
        "show_model_performance(X, y, ols_model, ols_prediction)"
      ],
      "metadata": {
        "colab": {
          "base_uri": "https://localhost:8080/"
        },
        "id": "-u4fvV0eE08w",
        "outputId": "0a1ed492-c0cc-42cf-aeae-af86fb43d3f3"
      },
      "execution_count": 34,
      "outputs": [
        {
          "output_type": "stream",
          "name": "stdout",
          "text": [
            "Without train/test CV:\n",
            "MSE: 101.28089977395058\n",
            "RMSE: 10.063841203732826\n",
            "MAE: 6.730016523656087\n",
            "\n",
            "With train/test CV:\n",
            "MSE: 178.9450617040727\n",
            "RMSE: 12.424576749052267\n",
            "MAE: 8.201917866201905\n"
          ]
        }
      ]
    },
    {
      "cell_type": "code",
      "source": [
        "model = ols_model(X, y)\n",
        "y_pred_ols = ols_prediction(model, X)\n",
        "\n",
        "plt.figure(figsize = (8,6))\n",
        "\n",
        "plt.plot(y, y_pred_ols, 'o');\n",
        "\n",
        "plt.xlabel('Homeless rate (per 10k)', fontsize = 15)\n",
        "plt.ylabel('Predicted homeless rate (per 10k)', fontsize = 15)\n",
        "\n",
        "plt.tick_params(labelsize = 15)"
      ],
      "metadata": {
        "colab": {
          "base_uri": "https://localhost:8080/",
          "height": 557
        },
        "id": "WJTsCBMIIq-G",
        "outputId": "71861f86-a9df-41df-b930-3db5fe6dbd4d"
      },
      "execution_count": 35,
      "outputs": [
        {
          "output_type": "display_data",
          "data": {
            "text/plain": [
              "<Figure size 800x600 with 1 Axes>"
            ],
            "image/png": "[encoded data removed]"
          },
          "metadata": {}
        }
      ]
    },
    {
      "cell_type": "markdown",
      "source": [
        "This doesn't look too bad, but a MAE of 8.20 isn't ideal. This could be from overfitting, or the extreme values in the data set, or the non-linear relationships. An OLS model on the data, as-is, is probably not the way we want to go. We'll try a ridge regression to make the data easier to model:"
      ],
      "metadata": {
        "id": "cDBoP99eIkeM"
      }
    },
    {
      "cell_type": "code",
      "source": [
        "alphas = 10**np.linspace(-2, 5, 20)\n",
        "ridge = Ridge(max_iter = 100000)\n",
        "coefs = []\n",
        "\n",
        "for a in alphas:\n",
        "    ridge.set_params(alpha=a)\n",
        "    ridge.fit(X, y)\n",
        "    coefs.append(ridge.coef_)\n",
        "    \n",
        "ax = plt.gca()\n",
        "ax.plot(alphas, coefs)\n",
        "ax.set_xscale('log')\n",
        "plt.axis('tight')\n",
        "plt.xlabel('alpha', fontsize = 14)\n",
        "plt.ylabel('coefficients', fontsize = 14);"
      ],
      "metadata": {
        "colab": {
          "base_uri": "https://localhost:8080/",
          "height": 463
        },
        "id": "E3SvHJOeMvSW",
        "outputId": "89d2ee7f-8123-4d23-9ae8-888aeb3ad531"
      },
      "execution_count": 36,
      "outputs": [
        {
          "output_type": "display_data",
          "data": {
            "text/plain": [
              "<Figure size 640x480 with 1 Axes>"
            ],
            "image/png": "[encoded data removed]"
          },
          "metadata": {}
        }
      ]
    },
    {
      "cell_type": "code",
      "source": [
        "ridgecv = RidgeCV(alphas = alphas, cv = 5, scoring = 'neg_mean_squared_error')\n",
        "ridgecv.fit(X, y)"
      ],
      "metadata": {
        "colab": {
          "base_uri": "https://localhost:8080/",
          "height": 161
        },
        "id": "RJj7ZB9SNfC_",
        "outputId": "f01cff7a-6e38-4e15-878c-0c0d09297504"
      },
      "execution_count": 37,
      "outputs": [
        {
          "output_type": "execute_result",
          "data": {
            "text/plain": [
              "RidgeCV(alphas=array([1.00000000e-02, 2.33572147e-02, 5.45559478e-02, 1.27427499e-01,\n",
              "       2.97635144e-01, 6.95192796e-01, 1.62377674e+00, 3.79269019e+00,\n",
              "       8.85866790e+00, 2.06913808e+01, 4.83293024e+01, 1.12883789e+02,\n",
              "       2.63665090e+02, 6.15848211e+02, 1.43844989e+03, 3.35981829e+03,\n",
              "       7.84759970e+03, 1.83298071e+04, 4.28133240e+04, 1.00000000e+05]),\n",
              "        cv=5, scoring='neg_mean_squared_error')"
            ],
            "text/html": [
              "<style>#sk-container-id-3 {color: black;background-color: white;}#sk-container-id-3 pre{padding: 0;}#sk-container-id-3 div.sk-toggleable {background-color: white;}#sk-container-id-3 label.sk-toggleable__label {cursor: pointer;display: block;width: 100%;margin-bottom: 0;padding: 0.3em;box-sizing: border-box;text-align: center;}#sk-container-id-3 label.sk-toggleable__label-arrow:before {content: \"▸\";float: left;margin-right: 0.25em;color: #696969;}#sk-container-id-3 label.sk-toggleable__label-arrow:hover:before {color: black;}#sk-container-id-3 div.sk-estimator:hover label.sk-toggleable__label-arrow:before {color: black;}#sk-container-id-3 div.sk-toggleable__content {max-height: 0;max-width: 0;overflow: hidden;text-align: left;background-color: #f0f8ff;}#sk-container-id-3 div.sk-toggleable__content pre {margin: 0.2em;color: black;border-radius: 0.25em;background-color: #f0f8ff;}#sk-container-id-3 input.sk-toggleable__control:checked~div.sk-toggleable__content {max-height: 200px;max-width: 100%;overflow: auto;}#sk-container-id-3 input.sk-toggleable__control:checked~label.sk-toggleable__label-arrow:before {content: \"▾\";}#sk-container-id-3 div.sk-estimator input.sk-toggleable__control:checked~label.sk-toggleable__label {background-color: #d4ebff;}#sk-container-id-3 div.sk-label input.sk-toggleable__control:checked~label.sk-toggleable__label {background-color: #d4ebff;}#sk-container-id-3 input.sk-hidden--visually {border: 0;clip: rect(1px 1px 1px 1px);clip: rect(1px, 1px, 1px, 1px);height: 1px;margin: -1px;overflow: hidden;padding: 0;position: absolute;width: 1px;}#sk-container-id-3 div.sk-estimator {font-family: monospace;background-color: #f0f8ff;border: 1px dotted black;border-radius: 0.25em;box-sizing: border-box;margin-bottom: 0.5em;}#sk-container-id-3 div.sk-estimator:hover {background-color: #d4ebff;}#sk-container-id-3 div.sk-parallel-item::after {content: \"\";width: 100%;border-bottom: 1px solid gray;flex-grow: 1;}#sk-container-id-3 div.sk-label:hover label.sk-toggleable__label {background-color: #d4ebff;}#sk-container-id-3 div.sk-serial::before {content: \"\";position: absolute;border-left: 1px solid gray;box-sizing: border-box;top: 0;bottom: 0;left: 50%;z-index: 0;}#sk-container-id-3 div.sk-serial {display: flex;flex-direction: column;align-items: center;background-color: white;padding-right: 0.2em;padding-left: 0.2em;position: relative;}#sk-container-id-3 div.sk-item {position: relative;z-index: 1;}#sk-container-id-3 div.sk-parallel {display: flex;align-items: stretch;justify-content: center;background-color: white;position: relative;}#sk-container-id-3 div.sk-item::before, #sk-container-id-3 div.sk-parallel-item::before {content: \"\";position: absolute;border-left: 1px solid gray;box-sizing: border-box;top: 0;bottom: 0;left: 50%;z-index: -1;}#sk-container-id-3 div.sk-parallel-item {display: flex;flex-direction: column;z-index: 1;position: relative;background-color: white;}#sk-container-id-3 div.sk-parallel-item:first-child::after {align-self: flex-end;width: 50%;}#sk-container-id-3 div.sk-parallel-item:last-child::after {align-self: flex-start;width: 50%;}#sk-container-id-3 div.sk-parallel-item:only-child::after {width: 0;}#sk-container-id-3 div.sk-dashed-wrapped {border: 1px dashed gray;margin: 0 0.4em 0.5em 0.4em;box-sizing: border-box;padding-bottom: 0.4em;background-color: white;}#sk-container-id-3 div.sk-label label {font-family: monospace;font-weight: bold;display: inline-block;line-height: 1.2em;}#sk-container-id-3 div.sk-label-container {text-align: center;}#sk-container-id-3 div.sk-container {/* jupyter's `normalize.less` sets `[hidden] { display: none; }` but bootstrap.min.css set `[hidden] { display: none !important; }` so we also need the `!important` here to be able to override the default hidden behavior on the sphinx rendered scikit-learn.org. See: https://github.com/scikit-learn/scikit-learn/issues/21755 */display: inline-block !important;position: relative;}#sk-container-id-3 div.sk-text-repr-fallback {display: none;}</style><div id=\"sk-container-id-3\" class=\"sk-top-container\"><div class=\"sk-text-repr-fallback\"><pre>RidgeCV(alphas=array([1.00000000e-02, 2.33572147e-02, 5.45559478e-02, 1.27427499e-01,\n",
              "       2.97635144e-01, 6.95192796e-01, 1.62377674e+00, 3.79269019e+00,\n",
              "       8.85866790e+00, 2.06913808e+01, 4.83293024e+01, 1.12883789e+02,\n",
              "       2.63665090e+02, 6.15848211e+02, 1.43844989e+03, 3.35981829e+03,\n",
              "       7.84759970e+03, 1.83298071e+04, 4.28133240e+04, 1.00000000e+05]),\n",
              "        cv=5, scoring=&#x27;neg_mean_squared_error&#x27;)</pre><b>In a Jupyter environment, please rerun this cell to show the HTML representation or trust the notebook. <br />On GitHub, the HTML representation is unable to render, please try loading this page with nbviewer.org.</b></div><div class=\"sk-container\" hidden><div class=\"sk-item\"><div class=\"sk-estimator sk-toggleable\"><input class=\"sk-toggleable__control sk-hidden--visually\" id=\"sk-estimator-id-5\" type=\"checkbox\" checked><label for=\"sk-estimator-id-5\" class=\"sk-toggleable__label sk-toggleable__label-arrow\">RidgeCV</label><div class=\"sk-toggleable__content\"><pre>RidgeCV(alphas=array([1.00000000e-02, 2.33572147e-02, 5.45559478e-02, 1.27427499e-01,\n",
              "       2.97635144e-01, 6.95192796e-01, 1.62377674e+00, 3.79269019e+00,\n",
              "       8.85866790e+00, 2.06913808e+01, 4.83293024e+01, 1.12883789e+02,\n",
              "       2.63665090e+02, 6.15848211e+02, 1.43844989e+03, 3.35981829e+03,\n",
              "       7.84759970e+03, 1.83298071e+04, 4.28133240e+04, 1.00000000e+05]),\n",
              "        cv=5, scoring=&#x27;neg_mean_squared_error&#x27;)</pre></div></div></div></div></div>"
            ]
          },
          "metadata": {},
          "execution_count": 37
        }
      ]
    },
    {
      "cell_type": "code",
      "source": [
        "def ridge_model(X_train, y_train):\n",
        "    return Ridge(alpha = ridgecv.alpha_).fit(X_train, y_train)\n",
        "    \n",
        "def ridge_prediction(model, X_test):\n",
        "  return model.predict(X_test)\n",
        "\n",
        "show_model_performance(X, y, ridge_model, ridge_prediction)"
      ],
      "metadata": {
        "colab": {
          "base_uri": "https://localhost:8080/"
        },
        "id": "tOl1ehUMNjvh",
        "outputId": "8181d640-4461-43c7-c649-0375603bbad5"
      },
      "execution_count": 38,
      "outputs": [
        {
          "output_type": "stream",
          "name": "stdout",
          "text": [
            "Without train/test CV:\n",
            "MSE: 112.22422471124146\n",
            "RMSE: 10.593593569287123\n",
            "MAE: 6.717042130589058\n",
            "\n",
            "With train/test CV:\n",
            "MSE: 154.48107294026863\n",
            "RMSE: 11.358633004309647\n",
            "MAE: 7.521215675648972\n"
          ]
        }
      ]
    },
    {
      "cell_type": "markdown",
      "source": [
        "Having a mean absolute error of 7.52 means that we're in the right direction. This means we're doing better than we would if we were to guess based on the average value of `rate_homeless`."
      ],
      "metadata": {
        "id": "TOGqOxKQP3Nt"
      }
    },
    {
      "cell_type": "markdown",
      "source": [
        "A simple tree model:"
      ],
      "metadata": {
        "id": "qQzjzFRvRLgb"
      }
    },
    {
      "cell_type": "code",
      "source": [
        "def tree_model(X_train, y_train):\n",
        "    model = tree.DecisionTreeRegressor(max_depth = 5)\n",
        "    model.fit(X_train, y_train)\n",
        "    return model\n",
        "    \n",
        "def tree_prediction(model, X_test):\n",
        "    return model.predict(X_test)\n",
        "\n",
        "model = tree_model(X, y)\n",
        "tree_data = tree.export_graphviz(model, out_file=None, feature_names=X.columns) \n",
        "graph = graphviz.Source(tree_data) \n",
        "graph"
      ],
      "metadata": {
        "colab": {
          "base_uri": "https://localhost:8080/",
          "height": 815
        },
        "id": "PzAuaqM5RK7u",
        "outputId": "0d842543-60cc-4b31-d000-0daaced5fd19"
      },
      "execution_count": 39,
      "outputs": [
        {
          "output_type": "execute_result",
          "data": {
            "image/svg+xml": "<?xml version=\"1.0\" encoding=\"UTF-8\" standalone=\"no\"?>\n<!DOCTYPE svg PUBLIC \"-//W3C//DTD SVG 1.1//EN\"\n \"http://www.w3.org/Graphics/SVG/1.1/DTD/svg11.dtd\">\n<!-- Generated by graphviz version 2.43.0 (0)\n -->\n<!-- Title: Tree Pages: 1 -->\n<svg width=\"3416pt\" height=\"581pt\"\n viewBox=\"0.00 0.00 3416.00 581.00\" xmlns=\"http://www.w3.org/2000/svg\" xmlns:xlink=\"http://www.w3.org/1999/xlink\">\n<g id=\"graph0\" class=\"graph\" transform=\"scale(1 1) rotate(0) translate(4 577)\">\n<title>Tree</title>\n<polygon fill=\"white\" stroke=\"transparent\" points=\"-4,4 -4,-577 3412,-577 3412,4 -4,4\"/>\n<!-- 0 -->\n<g id=\"node1\" class=\"node\">\n<title>0</title>\n<polygon fill=\"none\" stroke=\"black\" points=\"1816.5,-573 1621.5,-573 1621.5,-505 1816.5,-505 1816.5,-573\"/>\n<text text-anchor=\"middle\" x=\"1719\" y=\"-557.8\" font-family=\"Helvetica,sans-Serif\" font-size=\"14.00\">share_renters_2016 &lt;= 0.554</text>\n<text text-anchor=\"middle\" x=\"1719\" y=\"-542.8\" font-family=\"Helvetica,sans-Serif\" font-size=\"14.00\">squared_error = 240.221</text>\n<text text-anchor=\"middle\" x=\"1719\" y=\"-527.8\" font-family=\"Helvetica,sans-Serif\" font-size=\"14.00\">samples = 374</text>\n<text text-anchor=\"middle\" x=\"1719\" y=\"-512.8\" font-family=\"Helvetica,sans-Serif\" font-size=\"14.00\">value = 15.897</text>\n</g>\n<!-- 1 -->\n<g id=\"node2\" class=\"node\">\n<title>1</title>\n<polygon fill=\"none\" stroke=\"black\" points=\"1572.5,-469 1377.5,-469 1377.5,-401 1572.5,-401 1572.5,-469\"/>\n<text text-anchor=\"middle\" x=\"1475\" y=\"-453.8\" font-family=\"Helvetica,sans-Serif\" font-size=\"14.00\">share_renters_2016 &lt;= 0.164</text>\n<text text-anchor=\"middle\" x=\"1475\" y=\"-438.8\" font-family=\"Helvetica,sans-Serif\" font-size=\"14.00\">squared_error = 65.742</text>\n<text text-anchor=\"middle\" x=\"1475\" y=\"-423.8\" font-family=\"Helvetica,sans-Serif\" font-size=\"14.00\">samples = 280</text>\n<text text-anchor=\"middle\" x=\"1475\" y=\"-408.8\" font-family=\"Helvetica,sans-Serif\" font-size=\"14.00\">value = 11.924</text>\n</g>\n<!-- 0&#45;&gt;1 -->\n<g id=\"edge1\" class=\"edge\">\n<title>0&#45;&gt;1</title>\n<path fill=\"none\" stroke=\"black\" d=\"M1639.78,-504.88C1615.47,-494.72 1588.57,-483.48 1563.67,-473.07\"/>\n<polygon fill=\"black\" stroke=\"black\" points=\"1564.82,-469.75 1554.24,-469.12 1562.12,-476.21 1564.82,-469.75\"/>\n<text text-anchor=\"middle\" x=\"1563.73\" y=\"-488.55\" font-family=\"Helvetica,sans-Serif\" font-size=\"14.00\">True</text>\n</g>\n<!-- 28 -->\n<g id=\"node29\" class=\"node\">\n<title>28</title>\n<polygon fill=\"none\" stroke=\"black\" points=\"2036,-469 1870,-469 1870,-401 2036,-401 2036,-469\"/>\n<text text-anchor=\"middle\" x=\"1953\" y=\"-453.8\" font-family=\"Helvetica,sans-Serif\" font-size=\"14.00\">rate_black &lt;= &#45;0.513</text>\n<text text-anchor=\"middle\" x=\"1953\" y=\"-438.8\" font-family=\"Helvetica,sans-Serif\" font-size=\"14.00\">squared_error = 572.851</text>\n<text text-anchor=\"middle\" x=\"1953\" y=\"-423.8\" font-family=\"Helvetica,sans-Serif\" font-size=\"14.00\">samples = 94</text>\n<text text-anchor=\"middle\" x=\"1953\" y=\"-408.8\" font-family=\"Helvetica,sans-Serif\" font-size=\"14.00\">value = 27.732</text>\n</g>\n<!-- 0&#45;&gt;28 -->\n<g id=\"edge28\" class=\"edge\">\n<title>0&#45;&gt;28</title>\n<path fill=\"none\" stroke=\"black\" d=\"M1794.97,-504.88C1818.18,-494.77 1843.86,-483.58 1867.64,-473.21\"/>\n<polygon fill=\"black\" stroke=\"black\" points=\"1869.24,-476.33 1877.01,-469.12 1866.44,-469.91 1869.24,-476.33\"/>\n<text text-anchor=\"middle\" x=\"1867.87\" y=\"-488.69\" font-family=\"Helvetica,sans-Serif\" font-size=\"14.00\">False</text>\n</g>\n<!-- 2 -->\n<g id=\"node3\" class=\"node\">\n<title>2</title>\n<polygon fill=\"none\" stroke=\"black\" points=\"986.5,-365 755.5,-365 755.5,-297 986.5,-297 986.5,-365\"/>\n<text text-anchor=\"middle\" x=\"871\" y=\"-349.8\" font-family=\"Helvetica,sans-Serif\" font-size=\"14.00\">migration_4_year_change &lt;= 3.363</text>\n<text text-anchor=\"middle\" x=\"871\" y=\"-334.8\" font-family=\"Helvetica,sans-Serif\" font-size=\"14.00\">squared_error = 43.493</text>\n<text text-anchor=\"middle\" x=\"871\" y=\"-319.8\" font-family=\"Helvetica,sans-Serif\" font-size=\"14.00\">samples = 220</text>\n<text text-anchor=\"middle\" x=\"871\" y=\"-304.8\" font-family=\"Helvetica,sans-Serif\" font-size=\"14.00\">value = 10.42</text>\n</g>\n<!-- 1&#45;&gt;2 -->\n<g id=\"edge2\" class=\"edge\">\n<title>1&#45;&gt;2</title>\n<path fill=\"none\" stroke=\"black\" d=\"M1377.29,-417.5C1273.74,-400.01 1109.87,-372.34 996.75,-353.24\"/>\n<polygon fill=\"black\" stroke=\"black\" points=\"997.09,-349.74 986.65,-351.53 995.93,-356.65 997.09,-349.74\"/>\n</g>\n<!-- 15 -->\n<g id=\"node16\" class=\"node\">\n<title>15</title>\n<polygon fill=\"none\" stroke=\"black\" points=\"1566,-365 1384,-365 1384,-297 1566,-297 1566,-365\"/>\n<text text-anchor=\"middle\" x=\"1475\" y=\"-349.8\" font-family=\"Helvetica,sans-Serif\" font-size=\"14.00\">rate_age_65_plus &lt;= 0.504</text>\n<text text-anchor=\"middle\" x=\"1475\" y=\"-334.8\" font-family=\"Helvetica,sans-Serif\" font-size=\"14.00\">squared_error = 108.651</text>\n<text text-anchor=\"middle\" x=\"1475\" y=\"-319.8\" font-family=\"Helvetica,sans-Serif\" font-size=\"14.00\">samples = 60</text>\n<text text-anchor=\"middle\" x=\"1475\" y=\"-304.8\" font-family=\"Helvetica,sans-Serif\" font-size=\"14.00\">value = 17.436</text>\n</g>\n<!-- 1&#45;&gt;15 -->\n<g id=\"edge15\" class=\"edge\">\n<title>1&#45;&gt;15</title>\n<path fill=\"none\" stroke=\"black\" d=\"M1475,-400.88C1475,-392.78 1475,-383.98 1475,-375.47\"/>\n<polygon fill=\"black\" stroke=\"black\" points=\"1478.5,-375.3 1475,-365.3 1471.5,-375.3 1478.5,-375.3\"/>\n</g>\n<!-- 3 -->\n<g id=\"node4\" class=\"node\">\n<title>3</title>\n<polygon fill=\"none\" stroke=\"black\" points=\"593.5,-261 426.5,-261 426.5,-193 593.5,-193 593.5,-261\"/>\n<text text-anchor=\"middle\" x=\"510\" y=\"-245.8\" font-family=\"Helvetica,sans-Serif\" font-size=\"14.00\">total_population &lt;= &#45;0.44</text>\n<text text-anchor=\"middle\" x=\"510\" y=\"-230.8\" font-family=\"Helvetica,sans-Serif\" font-size=\"14.00\">squared_error = 33.013</text>\n<text text-anchor=\"middle\" x=\"510\" y=\"-215.8\" font-family=\"Helvetica,sans-Serif\" font-size=\"14.00\">samples = 217</text>\n<text text-anchor=\"middle\" x=\"510\" y=\"-200.8\" font-family=\"Helvetica,sans-Serif\" font-size=\"14.00\">value = 10.063</text>\n</g>\n<!-- 2&#45;&gt;3 -->\n<g id=\"edge3\" class=\"edge\">\n<title>2&#45;&gt;3</title>\n<path fill=\"none\" stroke=\"black\" d=\"M755.29,-297.31C706.19,-283.43 649.72,-267.48 603.35,-254.38\"/>\n<polygon fill=\"black\" stroke=\"black\" points=\"604.19,-250.98 593.61,-251.62 602.28,-257.71 604.19,-250.98\"/>\n</g>\n<!-- 10 -->\n<g id=\"node11\" class=\"node\">\n<title>10</title>\n<polygon fill=\"none\" stroke=\"black\" points=\"954,-261 788,-261 788,-193 954,-193 954,-261\"/>\n<text text-anchor=\"middle\" x=\"871\" y=\"-245.8\" font-family=\"Helvetica,sans-Serif\" font-size=\"14.00\">rate_female &lt;= 0.038</text>\n<text text-anchor=\"middle\" x=\"871\" y=\"-230.8\" font-family=\"Helvetica,sans-Serif\" font-size=\"14.00\">squared_error = 125.384</text>\n<text text-anchor=\"middle\" x=\"871\" y=\"-215.8\" font-family=\"Helvetica,sans-Serif\" font-size=\"14.00\">samples = 3</text>\n<text text-anchor=\"middle\" x=\"871\" y=\"-200.8\" font-family=\"Helvetica,sans-Serif\" font-size=\"14.00\">value = 36.245</text>\n</g>\n<!-- 2&#45;&gt;10 -->\n<g id=\"edge10\" class=\"edge\">\n<title>2&#45;&gt;10</title>\n<path fill=\"none\" stroke=\"black\" d=\"M871,-296.88C871,-288.78 871,-279.98 871,-271.47\"/>\n<polygon fill=\"black\" stroke=\"black\" points=\"874.5,-271.3 871,-261.3 867.5,-271.3 874.5,-271.3\"/>\n</g>\n<!-- 4 -->\n<g id=\"node5\" class=\"node\">\n<title>4</title>\n<polygon fill=\"none\" stroke=\"black\" points=\"355.5,-157 154.5,-157 154.5,-89 355.5,-89 355.5,-157\"/>\n<text text-anchor=\"middle\" x=\"255\" y=\"-141.8\" font-family=\"Helvetica,sans-Serif\" font-size=\"14.00\">gini_coefficient_2016 &lt;= 0.094</text>\n<text text-anchor=\"middle\" x=\"255\" y=\"-126.8\" font-family=\"Helvetica,sans-Serif\" font-size=\"14.00\">squared_error = 57.274</text>\n<text text-anchor=\"middle\" x=\"255\" y=\"-111.8\" font-family=\"Helvetica,sans-Serif\" font-size=\"14.00\">samples = 43</text>\n<text text-anchor=\"middle\" x=\"255\" y=\"-96.8\" font-family=\"Helvetica,sans-Serif\" font-size=\"14.00\">value = 13.917</text>\n</g>\n<!-- 3&#45;&gt;4 -->\n<g id=\"edge4\" class=\"edge\">\n<title>3&#45;&gt;4</title>\n<path fill=\"none\" stroke=\"black\" d=\"M427.21,-192.88C401.69,-182.68 373.44,-171.38 347.33,-160.93\"/>\n<polygon fill=\"black\" stroke=\"black\" points=\"348.4,-157.59 337.81,-157.12 345.8,-164.09 348.4,-157.59\"/>\n</g>\n<!-- 7 -->\n<g id=\"node8\" class=\"node\">\n<title>7</title>\n<polygon fill=\"none\" stroke=\"black\" points=\"643,-157 377,-157 377,-89 643,-89 643,-157\"/>\n<text text-anchor=\"middle\" x=\"510\" y=\"-141.8\" font-family=\"Helvetica,sans-Serif\" font-size=\"14.00\">average_summer_temperature &lt;= &#45;0.945</text>\n<text text-anchor=\"middle\" x=\"510\" y=\"-126.8\" font-family=\"Helvetica,sans-Serif\" font-size=\"14.00\">squared_error = 22.439</text>\n<text text-anchor=\"middle\" x=\"510\" y=\"-111.8\" font-family=\"Helvetica,sans-Serif\" font-size=\"14.00\">samples = 174</text>\n<text text-anchor=\"middle\" x=\"510\" y=\"-96.8\" font-family=\"Helvetica,sans-Serif\" font-size=\"14.00\">value = 9.111</text>\n</g>\n<!-- 3&#45;&gt;7 -->\n<g id=\"edge7\" class=\"edge\">\n<title>3&#45;&gt;7</title>\n<path fill=\"none\" stroke=\"black\" d=\"M510,-192.88C510,-184.78 510,-175.98 510,-167.47\"/>\n<polygon fill=\"black\" stroke=\"black\" points=\"513.5,-167.3 510,-157.3 506.5,-167.3 513.5,-167.3\"/>\n</g>\n<!-- 5 -->\n<g id=\"node6\" class=\"node\">\n<title>5</title>\n<polygon fill=\"none\" stroke=\"black\" points=\"158,-53 0,-53 0,0 158,0 158,-53\"/>\n<text text-anchor=\"middle\" x=\"79\" y=\"-37.8\" font-family=\"Helvetica,sans-Serif\" font-size=\"14.00\">squared_error = 32.669</text>\n<text text-anchor=\"middle\" x=\"79\" y=\"-22.8\" font-family=\"Helvetica,sans-Serif\" font-size=\"14.00\">samples = 34</text>\n<text text-anchor=\"middle\" x=\"79\" y=\"-7.8\" font-family=\"Helvetica,sans-Serif\" font-size=\"14.00\">value = 11.699</text>\n</g>\n<!-- 4&#45;&gt;5 -->\n<g id=\"edge5\" class=\"edge\">\n<title>4&#45;&gt;5</title>\n<path fill=\"none\" stroke=\"black\" d=\"M193.44,-88.95C174.62,-78.84 154.01,-67.78 135.54,-57.86\"/>\n<polygon fill=\"black\" stroke=\"black\" points=\"137.12,-54.73 126.65,-53.09 133.81,-60.9 137.12,-54.73\"/>\n</g>\n<!-- 6 -->\n<g id=\"node7\" class=\"node\">\n<title>6</title>\n<polygon fill=\"none\" stroke=\"black\" points=\"334,-53 176,-53 176,0 334,0 334,-53\"/>\n<text text-anchor=\"middle\" x=\"255\" y=\"-37.8\" font-family=\"Helvetica,sans-Serif\" font-size=\"14.00\">squared_error = 61.383</text>\n<text text-anchor=\"middle\" x=\"255\" y=\"-22.8\" font-family=\"Helvetica,sans-Serif\" font-size=\"14.00\">samples = 9</text>\n<text text-anchor=\"middle\" x=\"255\" y=\"-7.8\" font-family=\"Helvetica,sans-Serif\" font-size=\"14.00\">value = 22.299</text>\n</g>\n<!-- 4&#45;&gt;6 -->\n<g id=\"edge6\" class=\"edge\">\n<title>4&#45;&gt;6</title>\n<path fill=\"none\" stroke=\"black\" d=\"M255,-88.95C255,-80.72 255,-71.85 255,-63.48\"/>\n<polygon fill=\"black\" stroke=\"black\" points=\"258.5,-63.24 255,-53.24 251.5,-63.24 258.5,-63.24\"/>\n</g>\n<!-- 8 -->\n<g id=\"node9\" class=\"node\">\n<title>8</title>\n<polygon fill=\"none\" stroke=\"black\" points=\"510,-53 352,-53 352,0 510,0 510,-53\"/>\n<text text-anchor=\"middle\" x=\"431\" y=\"-37.8\" font-family=\"Helvetica,sans-Serif\" font-size=\"14.00\">squared_error = 14.256</text>\n<text text-anchor=\"middle\" x=\"431\" y=\"-22.8\" font-family=\"Helvetica,sans-Serif\" font-size=\"14.00\">samples = 11</text>\n<text text-anchor=\"middle\" x=\"431\" y=\"-7.8\" font-family=\"Helvetica,sans-Serif\" font-size=\"14.00\">value = 16.259</text>\n</g>\n<!-- 7&#45;&gt;8 -->\n<g id=\"edge8\" class=\"edge\">\n<title>7&#45;&gt;8</title>\n<path fill=\"none\" stroke=\"black\" d=\"M482.37,-88.95C474.8,-79.89 466.59,-70.07 458.99,-60.99\"/>\n<polygon fill=\"black\" stroke=\"black\" points=\"461.61,-58.66 452.52,-53.24 456.24,-63.15 461.61,-58.66\"/>\n</g>\n<!-- 9 -->\n<g id=\"node10\" class=\"node\">\n<title>9</title>\n<polygon fill=\"none\" stroke=\"black\" points=\"679.5,-53 528.5,-53 528.5,0 679.5,0 679.5,-53\"/>\n<text text-anchor=\"middle\" x=\"604\" y=\"-37.8\" font-family=\"Helvetica,sans-Serif\" font-size=\"14.00\">squared_error = 19.31</text>\n<text text-anchor=\"middle\" x=\"604\" y=\"-22.8\" font-family=\"Helvetica,sans-Serif\" font-size=\"14.00\">samples = 163</text>\n<text text-anchor=\"middle\" x=\"604\" y=\"-7.8\" font-family=\"Helvetica,sans-Serif\" font-size=\"14.00\">value = 8.628</text>\n</g>\n<!-- 7&#45;&gt;9 -->\n<g id=\"edge9\" class=\"edge\">\n<title>7&#45;&gt;9</title>\n<path fill=\"none\" stroke=\"black\" d=\"M542.88,-88.95C552.07,-79.71 562.05,-69.67 571.24,-60.44\"/>\n<polygon fill=\"black\" stroke=\"black\" points=\"573.83,-62.79 578.4,-53.24 568.87,-57.86 573.83,-62.79\"/>\n</g>\n<!-- 11 -->\n<g id=\"node12\" class=\"node\">\n<title>11</title>\n<polygon fill=\"none\" stroke=\"black\" points=\"876.5,-157 681.5,-157 681.5,-89 876.5,-89 876.5,-157\"/>\n<text text-anchor=\"middle\" x=\"779\" y=\"-141.8\" font-family=\"Helvetica,sans-Serif\" font-size=\"14.00\">rate_unemployment &lt;= 0.616</text>\n<text text-anchor=\"middle\" x=\"779\" y=\"-126.8\" font-family=\"Helvetica,sans-Serif\" font-size=\"14.00\">squared_error = 29.477</text>\n<text text-anchor=\"middle\" x=\"779\" y=\"-111.8\" font-family=\"Helvetica,sans-Serif\" font-size=\"14.00\">samples = 2</text>\n<text text-anchor=\"middle\" x=\"779\" y=\"-96.8\" font-family=\"Helvetica,sans-Serif\" font-size=\"14.00\">value = 28.975</text>\n</g>\n<!-- 10&#45;&gt;11 -->\n<g id=\"edge11\" class=\"edge\">\n<title>10&#45;&gt;11</title>\n<path fill=\"none\" stroke=\"black\" d=\"M841.13,-192.88C833.1,-183.98 824.31,-174.24 815.94,-164.96\"/>\n<polygon fill=\"black\" stroke=\"black\" points=\"818.33,-162.38 809.03,-157.3 813.13,-167.07 818.33,-162.38\"/>\n</g>\n<!-- 14 -->\n<g id=\"node15\" class=\"node\">\n<title>14</title>\n<polygon fill=\"none\" stroke=\"black\" points=\"1031,-149.5 895,-149.5 895,-96.5 1031,-96.5 1031,-149.5\"/>\n<text text-anchor=\"middle\" x=\"963\" y=\"-134.3\" font-family=\"Helvetica,sans-Serif\" font-size=\"14.00\">squared_error = 0.0</text>\n<text text-anchor=\"middle\" x=\"963\" y=\"-119.3\" font-family=\"Helvetica,sans-Serif\" font-size=\"14.00\">samples = 1</text>\n<text text-anchor=\"middle\" x=\"963\" y=\"-104.3\" font-family=\"Helvetica,sans-Serif\" font-size=\"14.00\">value = 50.787</text>\n</g>\n<!-- 10&#45;&gt;14 -->\n<g id=\"edge14\" class=\"edge\">\n<title>10&#45;&gt;14</title>\n<path fill=\"none\" stroke=\"black\" d=\"M900.87,-192.88C911.19,-181.45 922.74,-168.63 933.06,-157.19\"/>\n<polygon fill=\"black\" stroke=\"black\" points=\"935.88,-159.29 939.98,-149.52 930.69,-154.6 935.88,-159.29\"/>\n</g>\n<!-- 12 -->\n<g id=\"node13\" class=\"node\">\n<title>12</title>\n<polygon fill=\"none\" stroke=\"black\" points=\"834,-53 698,-53 698,0 834,0 834,-53\"/>\n<text text-anchor=\"middle\" x=\"766\" y=\"-37.8\" font-family=\"Helvetica,sans-Serif\" font-size=\"14.00\">squared_error = 0.0</text>\n<text text-anchor=\"middle\" x=\"766\" y=\"-22.8\" font-family=\"Helvetica,sans-Serif\" font-size=\"14.00\">samples = 1</text>\n<text text-anchor=\"middle\" x=\"766\" y=\"-7.8\" font-family=\"Helvetica,sans-Serif\" font-size=\"14.00\">value = 34.404</text>\n</g>\n<!-- 11&#45;&gt;12 -->\n<g id=\"edge12\" class=\"edge\">\n<title>11&#45;&gt;12</title>\n<path fill=\"none\" stroke=\"black\" d=\"M774.45,-88.95C773.31,-80.62 772.07,-71.65 770.91,-63.2\"/>\n<polygon fill=\"black\" stroke=\"black\" points=\"774.37,-62.67 769.54,-53.24 767.44,-63.62 774.37,-62.67\"/>\n</g>\n<!-- 13 -->\n<g id=\"node14\" class=\"node\">\n<title>13</title>\n<polygon fill=\"none\" stroke=\"black\" points=\"988,-53 852,-53 852,0 988,0 988,-53\"/>\n<text text-anchor=\"middle\" x=\"920\" y=\"-37.8\" font-family=\"Helvetica,sans-Serif\" font-size=\"14.00\">squared_error = 0.0</text>\n<text text-anchor=\"middle\" x=\"920\" y=\"-22.8\" font-family=\"Helvetica,sans-Serif\" font-size=\"14.00\">samples = 1</text>\n<text text-anchor=\"middle\" x=\"920\" y=\"-7.8\" font-family=\"Helvetica,sans-Serif\" font-size=\"14.00\">value = 23.545</text>\n</g>\n<!-- 11&#45;&gt;13 -->\n<g id=\"edge13\" class=\"edge\">\n<title>11&#45;&gt;13</title>\n<path fill=\"none\" stroke=\"black\" d=\"M828.31,-88.95C842.78,-79.25 858.56,-68.68 872.89,-59.07\"/>\n<polygon fill=\"black\" stroke=\"black\" points=\"875.24,-61.71 881.6,-53.24 871.34,-55.9 875.24,-61.71\"/>\n</g>\n<!-- 16 -->\n<g id=\"node17\" class=\"node\">\n<title>16</title>\n<polygon fill=\"none\" stroke=\"black\" points=\"1435,-261 1261,-261 1261,-193 1435,-193 1435,-261\"/>\n<text text-anchor=\"middle\" x=\"1348\" y=\"-245.8\" font-family=\"Helvetica,sans-Serif\" font-size=\"14.00\">share_hud_units &lt;= 2.301</text>\n<text text-anchor=\"middle\" x=\"1348\" y=\"-230.8\" font-family=\"Helvetica,sans-Serif\" font-size=\"14.00\">squared_error = 50.223</text>\n<text text-anchor=\"middle\" x=\"1348\" y=\"-215.8\" font-family=\"Helvetica,sans-Serif\" font-size=\"14.00\">samples = 50</text>\n<text text-anchor=\"middle\" x=\"1348\" y=\"-200.8\" font-family=\"Helvetica,sans-Serif\" font-size=\"14.00\">value = 14.255</text>\n</g>\n<!-- 15&#45;&gt;16 -->\n<g id=\"edge16\" class=\"edge\">\n<title>15&#45;&gt;16</title>\n<path fill=\"none\" stroke=\"black\" d=\"M1433.77,-296.88C1422.12,-287.53 1409.33,-277.26 1397.27,-267.57\"/>\n<polygon fill=\"black\" stroke=\"black\" points=\"1399.45,-264.83 1389.46,-261.3 1395.07,-270.29 1399.45,-264.83\"/>\n</g>\n<!-- 21 -->\n<g id=\"node22\" class=\"node\">\n<title>21</title>\n<polygon fill=\"none\" stroke=\"black\" points=\"1750.5,-261 1453.5,-261 1453.5,-193 1750.5,-193 1750.5,-261\"/>\n<text text-anchor=\"middle\" x=\"1602\" y=\"-245.8\" font-family=\"Helvetica,sans-Serif\" font-size=\"14.00\">share_under_18_with_single_parent &lt;= &#45;0.122</text>\n<text text-anchor=\"middle\" x=\"1602\" y=\"-230.8\" font-family=\"Helvetica,sans-Serif\" font-size=\"14.00\">squared_error = 97.203</text>\n<text text-anchor=\"middle\" x=\"1602\" y=\"-215.8\" font-family=\"Helvetica,sans-Serif\" font-size=\"14.00\">samples = 10</text>\n<text text-anchor=\"middle\" x=\"1602\" y=\"-200.8\" font-family=\"Helvetica,sans-Serif\" font-size=\"14.00\">value = 33.342</text>\n</g>\n<!-- 15&#45;&gt;21 -->\n<g id=\"edge21\" class=\"edge\">\n<title>15&#45;&gt;21</title>\n<path fill=\"none\" stroke=\"black\" d=\"M1516.23,-296.88C1527.88,-287.53 1540.67,-277.26 1552.73,-267.57\"/>\n<polygon fill=\"black\" stroke=\"black\" points=\"1554.93,-270.29 1560.54,-261.3 1550.55,-264.83 1554.93,-270.29\"/>\n</g>\n<!-- 17 -->\n<g id=\"node18\" class=\"node\">\n<title>17</title>\n<polygon fill=\"none\" stroke=\"black\" points=\"1269,-157 1059,-157 1059,-89 1269,-89 1269,-157\"/>\n<text text-anchor=\"middle\" x=\"1164\" y=\"-141.8\" font-family=\"Helvetica,sans-Serif\" font-size=\"14.00\">total_jan_precipitation &lt;= &#45;0.376</text>\n<text text-anchor=\"middle\" x=\"1164\" y=\"-126.8\" font-family=\"Helvetica,sans-Serif\" font-size=\"14.00\">squared_error = 25.709</text>\n<text text-anchor=\"middle\" x=\"1164\" y=\"-111.8\" font-family=\"Helvetica,sans-Serif\" font-size=\"14.00\">samples = 49</text>\n<text text-anchor=\"middle\" x=\"1164\" y=\"-96.8\" font-family=\"Helvetica,sans-Serif\" font-size=\"14.00\">value = 13.54</text>\n</g>\n<!-- 16&#45;&gt;17 -->\n<g id=\"edge17\" class=\"edge\">\n<title>16&#45;&gt;17</title>\n<path fill=\"none\" stroke=\"black\" d=\"M1288.26,-192.88C1270.5,-183.04 1250.89,-172.17 1232.61,-162.03\"/>\n<polygon fill=\"black\" stroke=\"black\" points=\"1234.2,-158.91 1223.75,-157.12 1230.8,-165.03 1234.2,-158.91\"/>\n</g>\n<!-- 20 -->\n<g id=\"node21\" class=\"node\">\n<title>20</title>\n<polygon fill=\"none\" stroke=\"black\" points=\"1423,-149.5 1287,-149.5 1287,-96.5 1423,-96.5 1423,-149.5\"/>\n<text text-anchor=\"middle\" x=\"1355\" y=\"-134.3\" font-family=\"Helvetica,sans-Serif\" font-size=\"14.00\">squared_error = 0.0</text>\n<text text-anchor=\"middle\" x=\"1355\" y=\"-119.3\" font-family=\"Helvetica,sans-Serif\" font-size=\"14.00\">samples = 1</text>\n<text text-anchor=\"middle\" x=\"1355\" y=\"-104.3\" font-family=\"Helvetica,sans-Serif\" font-size=\"14.00\">value = 49.275</text>\n</g>\n<!-- 16&#45;&gt;20 -->\n<g id=\"edge20\" class=\"edge\">\n<title>16&#45;&gt;20</title>\n<path fill=\"none\" stroke=\"black\" d=\"M1350.27,-192.88C1351,-182.22 1351.82,-170.35 1352.56,-159.52\"/>\n<polygon fill=\"black\" stroke=\"black\" points=\"1356.06,-159.74 1353.25,-149.52 1349.07,-159.26 1356.06,-159.74\"/>\n</g>\n<!-- 18 -->\n<g id=\"node19\" class=\"node\">\n<title>18</title>\n<polygon fill=\"none\" stroke=\"black\" points=\"1164,-53 1006,-53 1006,0 1164,0 1164,-53\"/>\n<text text-anchor=\"middle\" x=\"1085\" y=\"-37.8\" font-family=\"Helvetica,sans-Serif\" font-size=\"14.00\">squared_error = 13.002</text>\n<text text-anchor=\"middle\" x=\"1085\" y=\"-22.8\" font-family=\"Helvetica,sans-Serif\" font-size=\"14.00\">samples = 16</text>\n<text text-anchor=\"middle\" x=\"1085\" y=\"-7.8\" font-family=\"Helvetica,sans-Serif\" font-size=\"14.00\">value = 17.661</text>\n</g>\n<!-- 17&#45;&gt;18 -->\n<g id=\"edge18\" class=\"edge\">\n<title>17&#45;&gt;18</title>\n<path fill=\"none\" stroke=\"black\" d=\"M1136.37,-88.95C1128.8,-79.89 1120.59,-70.07 1112.99,-60.99\"/>\n<polygon fill=\"black\" stroke=\"black\" points=\"1115.61,-58.66 1106.52,-53.24 1110.24,-63.15 1115.61,-58.66\"/>\n</g>\n<!-- 19 -->\n<g id=\"node20\" class=\"node\">\n<title>19</title>\n<polygon fill=\"none\" stroke=\"black\" points=\"1340,-53 1182,-53 1182,0 1340,0 1340,-53\"/>\n<text text-anchor=\"middle\" x=\"1261\" y=\"-37.8\" font-family=\"Helvetica,sans-Serif\" font-size=\"14.00\">squared_error = 19.646</text>\n<text text-anchor=\"middle\" x=\"1261\" y=\"-22.8\" font-family=\"Helvetica,sans-Serif\" font-size=\"14.00\">samples = 33</text>\n<text text-anchor=\"middle\" x=\"1261\" y=\"-7.8\" font-family=\"Helvetica,sans-Serif\" font-size=\"14.00\">value = 11.542</text>\n</g>\n<!-- 17&#45;&gt;19 -->\n<g id=\"edge19\" class=\"edge\">\n<title>17&#45;&gt;19</title>\n<path fill=\"none\" stroke=\"black\" d=\"M1197.93,-88.95C1207.41,-79.71 1217.71,-69.67 1227.19,-60.44\"/>\n<polygon fill=\"black\" stroke=\"black\" points=\"1229.86,-62.72 1234.58,-53.24 1224.98,-57.71 1229.86,-62.72\"/>\n</g>\n<!-- 22 -->\n<g id=\"node23\" class=\"node\">\n<title>22</title>\n<polygon fill=\"none\" stroke=\"black\" points=\"1743.5,-157 1446.5,-157 1446.5,-89 1743.5,-89 1743.5,-157\"/>\n<text text-anchor=\"middle\" x=\"1595\" y=\"-141.8\" font-family=\"Helvetica,sans-Serif\" font-size=\"14.00\">share_under_18_with_single_parent &lt;= &#45;0.128</text>\n<text text-anchor=\"middle\" x=\"1595\" y=\"-126.8\" font-family=\"Helvetica,sans-Serif\" font-size=\"14.00\">squared_error = 32.764</text>\n<text text-anchor=\"middle\" x=\"1595\" y=\"-111.8\" font-family=\"Helvetica,sans-Serif\" font-size=\"14.00\">samples = 4</text>\n<text text-anchor=\"middle\" x=\"1595\" y=\"-96.8\" font-family=\"Helvetica,sans-Serif\" font-size=\"14.00\">value = 42.625</text>\n</g>\n<!-- 21&#45;&gt;22 -->\n<g id=\"edge22\" class=\"edge\">\n<title>21&#45;&gt;22</title>\n<path fill=\"none\" stroke=\"black\" d=\"M1599.73,-192.88C1599.17,-184.78 1598.57,-175.98 1597.98,-167.47\"/>\n<polygon fill=\"black\" stroke=\"black\" points=\"1601.46,-167.04 1597.29,-157.3 1594.48,-167.52 1601.46,-167.04\"/>\n</g>\n<!-- 25 -->\n<g id=\"node26\" class=\"node\">\n<title>25</title>\n<polygon fill=\"none\" stroke=\"black\" points=\"2028,-157 1762,-157 1762,-89 2028,-89 2028,-157\"/>\n<text text-anchor=\"middle\" x=\"1895\" y=\"-141.8\" font-family=\"Helvetica,sans-Serif\" font-size=\"14.00\">share_overcrowded_units_2016 &lt;= 0.622</text>\n<text text-anchor=\"middle\" x=\"1895\" y=\"-126.8\" font-family=\"Helvetica,sans-Serif\" font-size=\"14.00\">squared_error = 44.396</text>\n<text text-anchor=\"middle\" x=\"1895\" y=\"-111.8\" font-family=\"Helvetica,sans-Serif\" font-size=\"14.00\">samples = 6</text>\n<text text-anchor=\"middle\" x=\"1895\" y=\"-96.8\" font-family=\"Helvetica,sans-Serif\" font-size=\"14.00\">value = 27.152</text>\n</g>\n<!-- 21&#45;&gt;25 -->\n<g id=\"edge25\" class=\"edge\">\n<title>21&#45;&gt;25</title>\n<path fill=\"none\" stroke=\"black\" d=\"M1697.13,-192.88C1726.91,-182.52 1759.93,-171.02 1790.33,-160.44\"/>\n<polygon fill=\"black\" stroke=\"black\" points=\"1791.8,-163.63 1800.1,-157.04 1789.5,-157.02 1791.8,-163.63\"/>\n</g>\n<!-- 23 -->\n<g id=\"node24\" class=\"node\">\n<title>23</title>\n<polygon fill=\"none\" stroke=\"black\" points=\"1509.5,-53 1358.5,-53 1358.5,0 1509.5,0 1509.5,-53\"/>\n<text text-anchor=\"middle\" x=\"1434\" y=\"-37.8\" font-family=\"Helvetica,sans-Serif\" font-size=\"14.00\">squared_error = 5.726</text>\n<text text-anchor=\"middle\" x=\"1434\" y=\"-22.8\" font-family=\"Helvetica,sans-Serif\" font-size=\"14.00\">samples = 3</text>\n<text text-anchor=\"middle\" x=\"1434\" y=\"-7.8\" font-family=\"Helvetica,sans-Serif\" font-size=\"14.00\">value = 39.545</text>\n</g>\n<!-- 22&#45;&gt;23 -->\n<g id=\"edge23\" class=\"edge\">\n<title>22&#45;&gt;23</title>\n<path fill=\"none\" stroke=\"black\" d=\"M1538.69,-88.95C1521.78,-79.02 1503.3,-68.18 1486.64,-58.4\"/>\n<polygon fill=\"black\" stroke=\"black\" points=\"1487.99,-55.13 1477.59,-53.09 1484.44,-61.17 1487.99,-55.13\"/>\n</g>\n<!-- 24 -->\n<g id=\"node25\" class=\"node\">\n<title>24</title>\n<polygon fill=\"none\" stroke=\"black\" points=\"1668,-53 1528,-53 1528,0 1668,0 1668,-53\"/>\n<text text-anchor=\"middle\" x=\"1598\" y=\"-37.8\" font-family=\"Helvetica,sans-Serif\" font-size=\"14.00\">squared_error = &#45;0.0</text>\n<text text-anchor=\"middle\" x=\"1598\" y=\"-22.8\" font-family=\"Helvetica,sans-Serif\" font-size=\"14.00\">samples = 1</text>\n<text text-anchor=\"middle\" x=\"1598\" y=\"-7.8\" font-family=\"Helvetica,sans-Serif\" font-size=\"14.00\">value = 51.867</text>\n</g>\n<!-- 22&#45;&gt;24 -->\n<g id=\"edge24\" class=\"edge\">\n<title>22&#45;&gt;24</title>\n<path fill=\"none\" stroke=\"black\" d=\"M1596.05,-88.95C1596.31,-80.72 1596.59,-71.85 1596.86,-63.48\"/>\n<polygon fill=\"black\" stroke=\"black\" points=\"1600.36,-63.34 1597.18,-53.24 1593.37,-63.12 1600.36,-63.34\"/>\n</g>\n<!-- 26 -->\n<g id=\"node27\" class=\"node\">\n<title>26</title>\n<polygon fill=\"none\" stroke=\"black\" points=\"1837.5,-53 1686.5,-53 1686.5,0 1837.5,0 1837.5,-53\"/>\n<text text-anchor=\"middle\" x=\"1762\" y=\"-37.8\" font-family=\"Helvetica,sans-Serif\" font-size=\"14.00\">squared_error = 8.771</text>\n<text text-anchor=\"middle\" x=\"1762\" y=\"-22.8\" font-family=\"Helvetica,sans-Serif\" font-size=\"14.00\">samples = 4</text>\n<text text-anchor=\"middle\" x=\"1762\" y=\"-7.8\" font-family=\"Helvetica,sans-Serif\" font-size=\"14.00\">value = 31.34</text>\n</g>\n<!-- 25&#45;&gt;26 -->\n<g id=\"edge26\" class=\"edge\">\n<title>25&#45;&gt;26</title>\n<path fill=\"none\" stroke=\"black\" d=\"M1848.48,-88.95C1834.84,-79.25 1819.95,-68.68 1806.44,-59.07\"/>\n<polygon fill=\"black\" stroke=\"black\" points=\"1808.4,-56.18 1798.22,-53.24 1804.35,-61.88 1808.4,-56.18\"/>\n</g>\n<!-- 27 -->\n<g id=\"node28\" class=\"node\">\n<title>27</title>\n<polygon fill=\"none\" stroke=\"black\" points=\"2014,-53 1856,-53 1856,0 2014,0 2014,-53\"/>\n<text text-anchor=\"middle\" x=\"1935\" y=\"-37.8\" font-family=\"Helvetica,sans-Serif\" font-size=\"14.00\">squared_error = 10.449</text>\n<text text-anchor=\"middle\" x=\"1935\" y=\"-22.8\" font-family=\"Helvetica,sans-Serif\" font-size=\"14.00\">samples = 2</text>\n<text text-anchor=\"middle\" x=\"1935\" y=\"-7.8\" font-family=\"Helvetica,sans-Serif\" font-size=\"14.00\">value = 18.778</text>\n</g>\n<!-- 25&#45;&gt;27 -->\n<g id=\"edge27\" class=\"edge\">\n<title>25&#45;&gt;27</title>\n<path fill=\"none\" stroke=\"black\" d=\"M1908.99,-88.95C1912.59,-80.44 1916.48,-71.26 1920.12,-62.65\"/>\n<polygon fill=\"black\" stroke=\"black\" points=\"1923.43,-63.81 1924.11,-53.24 1916.98,-61.08 1923.43,-63.81\"/>\n</g>\n<!-- 29 -->\n<g id=\"node30\" class=\"node\">\n<title>29</title>\n<polygon fill=\"none\" stroke=\"black\" points=\"2086,-365 1820,-365 1820,-297 2086,-297 2086,-365\"/>\n<text text-anchor=\"middle\" x=\"1953\" y=\"-349.8\" font-family=\"Helvetica,sans-Serif\" font-size=\"14.00\">share_overcrowded_units_2016 &lt;= 2.527</text>\n<text text-anchor=\"middle\" x=\"1953\" y=\"-334.8\" font-family=\"Helvetica,sans-Serif\" font-size=\"14.00\">squared_error = 887.626</text>\n<text text-anchor=\"middle\" x=\"1953\" y=\"-319.8\" font-family=\"Helvetica,sans-Serif\" font-size=\"14.00\">samples = 2</text>\n<text text-anchor=\"middle\" x=\"1953\" y=\"-304.8\" font-family=\"Helvetica,sans-Serif\" font-size=\"14.00\">value = 111.517</text>\n</g>\n<!-- 28&#45;&gt;29 -->\n<g id=\"edge29\" class=\"edge\">\n<title>28&#45;&gt;29</title>\n<path fill=\"none\" stroke=\"black\" d=\"M1953,-400.88C1953,-392.78 1953,-383.98 1953,-375.47\"/>\n<polygon fill=\"black\" stroke=\"black\" points=\"1956.5,-375.3 1953,-365.3 1949.5,-375.3 1956.5,-375.3\"/>\n</g>\n<!-- 32 -->\n<g id=\"node33\" class=\"node\">\n<title>32</title>\n<polygon fill=\"none\" stroke=\"black\" points=\"2467,-365 2291,-365 2291,-297 2467,-297 2467,-365\"/>\n<text text-anchor=\"middle\" x=\"2379\" y=\"-349.8\" font-family=\"Helvetica,sans-Serif\" font-size=\"14.00\">log_median_rent &lt;= 1.098</text>\n<text text-anchor=\"middle\" x=\"2379\" y=\"-334.8\" font-family=\"Helvetica,sans-Serif\" font-size=\"14.00\">squared_error = 410.084</text>\n<text text-anchor=\"middle\" x=\"2379\" y=\"-319.8\" font-family=\"Helvetica,sans-Serif\" font-size=\"14.00\">samples = 92</text>\n<text text-anchor=\"middle\" x=\"2379\" y=\"-304.8\" font-family=\"Helvetica,sans-Serif\" font-size=\"14.00\">value = 25.911</text>\n</g>\n<!-- 28&#45;&gt;32 -->\n<g id=\"edge32\" class=\"edge\">\n<title>28&#45;&gt;32</title>\n<path fill=\"none\" stroke=\"black\" d=\"M2036.15,-414.09C2106.36,-397.28 2207.02,-373.18 2281.11,-355.44\"/>\n<polygon fill=\"black\" stroke=\"black\" points=\"2282.02,-358.82 2290.93,-353.09 2280.39,-352.01 2282.02,-358.82\"/>\n</g>\n<!-- 30 -->\n<g id=\"node31\" class=\"node\">\n<title>30</title>\n<polygon fill=\"none\" stroke=\"black\" points=\"1951,-253.5 1815,-253.5 1815,-200.5 1951,-200.5 1951,-253.5\"/>\n<text text-anchor=\"middle\" x=\"1883\" y=\"-238.3\" font-family=\"Helvetica,sans-Serif\" font-size=\"14.00\">squared_error = 0.0</text>\n<text text-anchor=\"middle\" x=\"1883\" y=\"-223.3\" font-family=\"Helvetica,sans-Serif\" font-size=\"14.00\">samples = 1</text>\n<text text-anchor=\"middle\" x=\"1883\" y=\"-208.3\" font-family=\"Helvetica,sans-Serif\" font-size=\"14.00\">value = 141.31</text>\n</g>\n<!-- 29&#45;&gt;30 -->\n<g id=\"edge30\" class=\"edge\">\n<title>29&#45;&gt;30</title>\n<path fill=\"none\" stroke=\"black\" d=\"M1930.27,-296.88C1922.57,-285.67 1913.97,-273.13 1906.23,-261.85\"/>\n<polygon fill=\"black\" stroke=\"black\" points=\"1909.06,-259.78 1900.51,-253.52 1903.29,-263.75 1909.06,-259.78\"/>\n</g>\n<!-- 31 -->\n<g id=\"node32\" class=\"node\">\n<title>31</title>\n<polygon fill=\"none\" stroke=\"black\" points=\"2109,-253.5 1969,-253.5 1969,-200.5 2109,-200.5 2109,-253.5\"/>\n<text text-anchor=\"middle\" x=\"2039\" y=\"-238.3\" font-family=\"Helvetica,sans-Serif\" font-size=\"14.00\">squared_error = &#45;0.0</text>\n<text text-anchor=\"middle\" x=\"2039\" y=\"-223.3\" font-family=\"Helvetica,sans-Serif\" font-size=\"14.00\">samples = 1</text>\n<text text-anchor=\"middle\" x=\"2039\" y=\"-208.3\" font-family=\"Helvetica,sans-Serif\" font-size=\"14.00\">value = 81.724</text>\n</g>\n<!-- 29&#45;&gt;31 -->\n<g id=\"edge31\" class=\"edge\">\n<title>29&#45;&gt;31</title>\n<path fill=\"none\" stroke=\"black\" d=\"M1980.92,-296.88C1990.57,-285.45 2001.37,-272.63 2011.02,-261.19\"/>\n<polygon fill=\"black\" stroke=\"black\" points=\"2013.71,-263.42 2017.48,-253.52 2008.36,-258.91 2013.71,-263.42\"/>\n</g>\n<!-- 33 -->\n<g id=\"node34\" class=\"node\">\n<title>33</title>\n<polygon fill=\"none\" stroke=\"black\" points=\"2474.5,-261 2283.5,-261 2283.5,-193 2474.5,-193 2474.5,-261\"/>\n<text text-anchor=\"middle\" x=\"2379\" y=\"-245.8\" font-family=\"Helvetica,sans-Serif\" font-size=\"14.00\">total_jan_precipitation &lt;= 4.2</text>\n<text text-anchor=\"middle\" x=\"2379\" y=\"-230.8\" font-family=\"Helvetica,sans-Serif\" font-size=\"14.00\">squared_error = 168.099</text>\n<text text-anchor=\"middle\" x=\"2379\" y=\"-215.8\" font-family=\"Helvetica,sans-Serif\" font-size=\"14.00\">samples = 71</text>\n<text text-anchor=\"middle\" x=\"2379\" y=\"-200.8\" font-family=\"Helvetica,sans-Serif\" font-size=\"14.00\">value = 19.874</text>\n</g>\n<!-- 32&#45;&gt;33 -->\n<g id=\"edge33\" class=\"edge\">\n<title>32&#45;&gt;33</title>\n<path fill=\"none\" stroke=\"black\" d=\"M2379,-296.88C2379,-288.78 2379,-279.98 2379,-271.47\"/>\n<polygon fill=\"black\" stroke=\"black\" points=\"2382.5,-271.3 2379,-261.3 2375.5,-271.3 2382.5,-271.3\"/>\n</g>\n<!-- 40 -->\n<g id=\"node41\" class=\"node\">\n<title>40</title>\n<polygon fill=\"none\" stroke=\"black\" points=\"2985.5,-261 2784.5,-261 2784.5,-193 2985.5,-193 2985.5,-261\"/>\n<text text-anchor=\"middle\" x=\"2885\" y=\"-245.8\" font-family=\"Helvetica,sans-Serif\" font-size=\"14.00\">gini_coefficient_2016 &lt;= 1.201</text>\n<text text-anchor=\"middle\" x=\"2885\" y=\"-230.8\" font-family=\"Helvetica,sans-Serif\" font-size=\"14.00\">squared_error = 688.56</text>\n<text text-anchor=\"middle\" x=\"2885\" y=\"-215.8\" font-family=\"Helvetica,sans-Serif\" font-size=\"14.00\">samples = 21</text>\n<text text-anchor=\"middle\" x=\"2885\" y=\"-200.8\" font-family=\"Helvetica,sans-Serif\" font-size=\"14.00\">value = 46.318</text>\n</g>\n<!-- 32&#45;&gt;40 -->\n<g id=\"edge40\" class=\"edge\">\n<title>32&#45;&gt;40</title>\n<path fill=\"none\" stroke=\"black\" d=\"M2467.14,-312.23C2552.51,-295.02 2682.25,-268.87 2774.49,-250.28\"/>\n<polygon fill=\"black\" stroke=\"black\" points=\"2775.31,-253.68 2784.42,-248.28 2773.92,-246.82 2775.31,-253.68\"/>\n</g>\n<!-- 34 -->\n<g id=\"node35\" class=\"node\">\n<title>34</title>\n<polygon fill=\"none\" stroke=\"black\" points=\"2363,-157 2193,-157 2193,-89 2363,-89 2363,-157\"/>\n<text text-anchor=\"middle\" x=\"2278\" y=\"-141.8\" font-family=\"Helvetica,sans-Serif\" font-size=\"14.00\">rate_age_0_19 &lt;= &#45;0.929</text>\n<text text-anchor=\"middle\" x=\"2278\" y=\"-126.8\" font-family=\"Helvetica,sans-Serif\" font-size=\"14.00\">squared_error = 130.114</text>\n<text text-anchor=\"middle\" x=\"2278\" y=\"-111.8\" font-family=\"Helvetica,sans-Serif\" font-size=\"14.00\">samples = 68</text>\n<text text-anchor=\"middle\" x=\"2278\" y=\"-96.8\" font-family=\"Helvetica,sans-Serif\" font-size=\"14.00\">value = 18.505</text>\n</g>\n<!-- 33&#45;&gt;34 -->\n<g id=\"edge34\" class=\"edge\">\n<title>33&#45;&gt;34</title>\n<path fill=\"none\" stroke=\"black\" d=\"M2346.21,-192.88C2337.3,-183.89 2327.55,-174.04 2318.28,-164.68\"/>\n<polygon fill=\"black\" stroke=\"black\" points=\"2320.5,-161.94 2310.97,-157.3 2315.52,-166.87 2320.5,-161.94\"/>\n</g>\n<!-- 37 -->\n<g id=\"node38\" class=\"node\">\n<title>37</title>\n<polygon fill=\"none\" stroke=\"black\" points=\"2579,-157 2381,-157 2381,-89 2579,-89 2579,-157\"/>\n<text text-anchor=\"middle\" x=\"2480\" y=\"-141.8\" font-family=\"Helvetica,sans-Serif\" font-size=\"14.00\">rate_pacific_islander &lt;= 2.975</text>\n<text text-anchor=\"middle\" x=\"2480\" y=\"-126.8\" font-family=\"Helvetica,sans-Serif\" font-size=\"14.00\">squared_error = 22.751</text>\n<text text-anchor=\"middle\" x=\"2480\" y=\"-111.8\" font-family=\"Helvetica,sans-Serif\" font-size=\"14.00\">samples = 3</text>\n<text text-anchor=\"middle\" x=\"2480\" y=\"-96.8\" font-family=\"Helvetica,sans-Serif\" font-size=\"14.00\">value = 50.92</text>\n</g>\n<!-- 33&#45;&gt;37 -->\n<g id=\"edge37\" class=\"edge\">\n<title>33&#45;&gt;37</title>\n<path fill=\"none\" stroke=\"black\" d=\"M2411.79,-192.88C2420.7,-183.89 2430.45,-174.04 2439.72,-164.68\"/>\n<polygon fill=\"black\" stroke=\"black\" points=\"2442.48,-166.87 2447.03,-157.3 2437.5,-161.94 2442.48,-166.87\"/>\n</g>\n<!-- 35 -->\n<g id=\"node36\" class=\"node\">\n<title>35</title>\n<polygon fill=\"none\" stroke=\"black\" points=\"2190,-53 2032,-53 2032,0 2190,0 2190,-53\"/>\n<text text-anchor=\"middle\" x=\"2111\" y=\"-37.8\" font-family=\"Helvetica,sans-Serif\" font-size=\"14.00\">squared_error = 22.538</text>\n<text text-anchor=\"middle\" x=\"2111\" y=\"-22.8\" font-family=\"Helvetica,sans-Serif\" font-size=\"14.00\">samples = 3</text>\n<text text-anchor=\"middle\" x=\"2111\" y=\"-7.8\" font-family=\"Helvetica,sans-Serif\" font-size=\"14.00\">value = 45.431</text>\n</g>\n<!-- 34&#45;&gt;35 -->\n<g id=\"edge35\" class=\"edge\">\n<title>34&#45;&gt;35</title>\n<path fill=\"none\" stroke=\"black\" d=\"M2219.59,-88.95C2201.89,-78.93 2182.53,-67.98 2165.12,-58.13\"/>\n<polygon fill=\"black\" stroke=\"black\" points=\"2166.64,-54.97 2156.22,-53.09 2163.2,-61.06 2166.64,-54.97\"/>\n</g>\n<!-- 36 -->\n<g id=\"node37\" class=\"node\">\n<title>36</title>\n<polygon fill=\"none\" stroke=\"black\" points=\"2374,-53 2208,-53 2208,0 2374,0 2374,-53\"/>\n<text text-anchor=\"middle\" x=\"2291\" y=\"-37.8\" font-family=\"Helvetica,sans-Serif\" font-size=\"14.00\">squared_error = 100.072</text>\n<text text-anchor=\"middle\" x=\"2291\" y=\"-22.8\" font-family=\"Helvetica,sans-Serif\" font-size=\"14.00\">samples = 65</text>\n<text text-anchor=\"middle\" x=\"2291\" y=\"-7.8\" font-family=\"Helvetica,sans-Serif\" font-size=\"14.00\">value = 17.262</text>\n</g>\n<!-- 34&#45;&gt;36 -->\n<g id=\"edge36\" class=\"edge\">\n<title>34&#45;&gt;36</title>\n<path fill=\"none\" stroke=\"black\" d=\"M2282.55,-88.95C2283.69,-80.62 2284.93,-71.65 2286.09,-63.2\"/>\n<polygon fill=\"black\" stroke=\"black\" points=\"2289.56,-63.62 2287.46,-53.24 2282.63,-62.67 2289.56,-63.62\"/>\n</g>\n<!-- 38 -->\n<g id=\"node39\" class=\"node\">\n<title>38</title>\n<polygon fill=\"none\" stroke=\"black\" points=\"2543.5,-53 2392.5,-53 2392.5,0 2543.5,0 2543.5,-53\"/>\n<text text-anchor=\"middle\" x=\"2468\" y=\"-37.8\" font-family=\"Helvetica,sans-Serif\" font-size=\"14.00\">squared_error = 2.062</text>\n<text text-anchor=\"middle\" x=\"2468\" y=\"-22.8\" font-family=\"Helvetica,sans-Serif\" font-size=\"14.00\">samples = 2</text>\n<text text-anchor=\"middle\" x=\"2468\" y=\"-7.8\" font-family=\"Helvetica,sans-Serif\" font-size=\"14.00\">value = 54.189</text>\n</g>\n<!-- 37&#45;&gt;38 -->\n<g id=\"edge38\" class=\"edge\">\n<title>37&#45;&gt;38</title>\n<path fill=\"none\" stroke=\"black\" d=\"M2475.8,-88.95C2474.75,-80.62 2473.61,-71.65 2472.53,-63.2\"/>\n<polygon fill=\"black\" stroke=\"black\" points=\"2476,-62.72 2471.27,-53.24 2469.06,-63.6 2476,-62.72\"/>\n</g>\n<!-- 39 -->\n<g id=\"node40\" class=\"node\">\n<title>39</title>\n<polygon fill=\"none\" stroke=\"black\" points=\"2702,-53 2562,-53 2562,0 2702,0 2702,-53\"/>\n<text text-anchor=\"middle\" x=\"2632\" y=\"-37.8\" font-family=\"Helvetica,sans-Serif\" font-size=\"14.00\">squared_error = &#45;0.0</text>\n<text text-anchor=\"middle\" x=\"2632\" y=\"-22.8\" font-family=\"Helvetica,sans-Serif\" font-size=\"14.00\">samples = 1</text>\n<text text-anchor=\"middle\" x=\"2632\" y=\"-7.8\" font-family=\"Helvetica,sans-Serif\" font-size=\"14.00\">value = 44.381</text>\n</g>\n<!-- 37&#45;&gt;39 -->\n<g id=\"edge39\" class=\"edge\">\n<title>37&#45;&gt;39</title>\n<path fill=\"none\" stroke=\"black\" d=\"M2533.16,-88.95C2549.05,-79.07 2566.41,-68.28 2582.09,-58.53\"/>\n<polygon fill=\"black\" stroke=\"black\" points=\"2583.96,-61.49 2590.6,-53.24 2580.26,-55.54 2583.96,-61.49\"/>\n</g>\n<!-- 41 -->\n<g id=\"node42\" class=\"node\">\n<title>41</title>\n<polygon fill=\"none\" stroke=\"black\" points=\"2973,-157 2797,-157 2797,-89 2973,-89 2973,-157\"/>\n<text text-anchor=\"middle\" x=\"2885\" y=\"-141.8\" font-family=\"Helvetica,sans-Serif\" font-size=\"14.00\">log_median_rent &lt;= 1.727</text>\n<text text-anchor=\"middle\" x=\"2885\" y=\"-126.8\" font-family=\"Helvetica,sans-Serif\" font-size=\"14.00\">squared_error = 263.862</text>\n<text text-anchor=\"middle\" x=\"2885\" y=\"-111.8\" font-family=\"Helvetica,sans-Serif\" font-size=\"14.00\">samples = 16</text>\n<text text-anchor=\"middle\" x=\"2885\" y=\"-96.8\" font-family=\"Helvetica,sans-Serif\" font-size=\"14.00\">value = 34.866</text>\n</g>\n<!-- 40&#45;&gt;41 -->\n<g id=\"edge41\" class=\"edge\">\n<title>40&#45;&gt;41</title>\n<path fill=\"none\" stroke=\"black\" d=\"M2885,-192.88C2885,-184.78 2885,-175.98 2885,-167.47\"/>\n<polygon fill=\"black\" stroke=\"black\" points=\"2888.5,-167.3 2885,-157.3 2881.5,-167.3 2888.5,-167.3\"/>\n</g>\n<!-- 44 -->\n<g id=\"node45\" class=\"node\">\n<title>44</title>\n<polygon fill=\"none\" stroke=\"black\" points=\"3268.5,-157 3073.5,-157 3073.5,-89 3268.5,-89 3268.5,-157\"/>\n<text text-anchor=\"middle\" x=\"3171\" y=\"-141.8\" font-family=\"Helvetica,sans-Serif\" font-size=\"14.00\">rate_unemployment &lt;= 0.544</text>\n<text text-anchor=\"middle\" x=\"3171\" y=\"-126.8\" font-family=\"Helvetica,sans-Serif\" font-size=\"14.00\">squared_error = 284.707</text>\n<text text-anchor=\"middle\" x=\"3171\" y=\"-111.8\" font-family=\"Helvetica,sans-Serif\" font-size=\"14.00\">samples = 5</text>\n<text text-anchor=\"middle\" x=\"3171\" y=\"-96.8\" font-family=\"Helvetica,sans-Serif\" font-size=\"14.00\">value = 82.967</text>\n</g>\n<!-- 40&#45;&gt;44 -->\n<g id=\"edge44\" class=\"edge\">\n<title>40&#45;&gt;44</title>\n<path fill=\"none\" stroke=\"black\" d=\"M2977.86,-192.88C3006.85,-182.54 3038.99,-171.08 3068.6,-160.52\"/>\n<polygon fill=\"black\" stroke=\"black\" points=\"3069.88,-163.78 3078.12,-157.12 3067.53,-157.19 3069.88,-163.78\"/>\n</g>\n<!-- 42 -->\n<g id=\"node43\" class=\"node\">\n<title>42</title>\n<polygon fill=\"none\" stroke=\"black\" points=\"2886,-53 2720,-53 2720,0 2886,0 2886,-53\"/>\n<text text-anchor=\"middle\" x=\"2803\" y=\"-37.8\" font-family=\"Helvetica,sans-Serif\" font-size=\"14.00\">squared_error = 159.881</text>\n<text text-anchor=\"middle\" x=\"2803\" y=\"-22.8\" font-family=\"Helvetica,sans-Serif\" font-size=\"14.00\">samples = 11</text>\n<text text-anchor=\"middle\" x=\"2803\" y=\"-7.8\" font-family=\"Helvetica,sans-Serif\" font-size=\"14.00\">value = 42.304</text>\n</g>\n<!-- 41&#45;&gt;42 -->\n<g id=\"edge42\" class=\"edge\">\n<title>41&#45;&gt;42</title>\n<path fill=\"none\" stroke=\"black\" d=\"M2856.32,-88.95C2848.46,-79.89 2839.94,-70.07 2832.06,-60.99\"/>\n<polygon fill=\"black\" stroke=\"black\" points=\"2834.53,-58.5 2825.33,-53.24 2829.24,-63.08 2834.53,-58.5\"/>\n</g>\n<!-- 43 -->\n<g id=\"node44\" class=\"node\">\n<title>43</title>\n<polygon fill=\"none\" stroke=\"black\" points=\"3070,-53 2904,-53 2904,0 3070,0 3070,-53\"/>\n<text text-anchor=\"middle\" x=\"2987\" y=\"-37.8\" font-family=\"Helvetica,sans-Serif\" font-size=\"14.00\">squared_error = 103.119</text>\n<text text-anchor=\"middle\" x=\"2987\" y=\"-22.8\" font-family=\"Helvetica,sans-Serif\" font-size=\"14.00\">samples = 5</text>\n<text text-anchor=\"middle\" x=\"2987\" y=\"-7.8\" font-family=\"Helvetica,sans-Serif\" font-size=\"14.00\">value = 18.502</text>\n</g>\n<!-- 41&#45;&gt;43 -->\n<g id=\"edge43\" class=\"edge\">\n<title>41&#45;&gt;43</title>\n<path fill=\"none\" stroke=\"black\" d=\"M2920.67,-88.95C2930.75,-79.62 2941.7,-69.47 2951.74,-60.16\"/>\n<polygon fill=\"black\" stroke=\"black\" points=\"2954.26,-62.6 2959.22,-53.24 2949.51,-57.47 2954.26,-62.6\"/>\n</g>\n<!-- 45 -->\n<g id=\"node46\" class=\"node\">\n<title>45</title>\n<polygon fill=\"none\" stroke=\"black\" points=\"3254,-53 3088,-53 3088,0 3254,0 3254,-53\"/>\n<text text-anchor=\"middle\" x=\"3171\" y=\"-37.8\" font-family=\"Helvetica,sans-Serif\" font-size=\"14.00\">squared_error = 140.825</text>\n<text text-anchor=\"middle\" x=\"3171\" y=\"-22.8\" font-family=\"Helvetica,sans-Serif\" font-size=\"14.00\">samples = 4</text>\n<text text-anchor=\"middle\" x=\"3171\" y=\"-7.8\" font-family=\"Helvetica,sans-Serif\" font-size=\"14.00\">value = 76.409</text>\n</g>\n<!-- 44&#45;&gt;45 -->\n<g id=\"edge45\" class=\"edge\">\n<title>44&#45;&gt;45</title>\n<path fill=\"none\" stroke=\"black\" d=\"M3171,-88.95C3171,-80.72 3171,-71.85 3171,-63.48\"/>\n<polygon fill=\"black\" stroke=\"black\" points=\"3174.5,-63.24 3171,-53.24 3167.5,-63.24 3174.5,-63.24\"/>\n</g>\n<!-- 46 -->\n<g id=\"node47\" class=\"node\">\n<title>46</title>\n<polygon fill=\"none\" stroke=\"black\" points=\"3408,-53 3272,-53 3272,0 3408,0 3408,-53\"/>\n<text text-anchor=\"middle\" x=\"3340\" y=\"-37.8\" font-family=\"Helvetica,sans-Serif\" font-size=\"14.00\">squared_error = 0.0</text>\n<text text-anchor=\"middle\" x=\"3340\" y=\"-22.8\" font-family=\"Helvetica,sans-Serif\" font-size=\"14.00\">samples = 1</text>\n<text text-anchor=\"middle\" x=\"3340\" y=\"-7.8\" font-family=\"Helvetica,sans-Serif\" font-size=\"14.00\">value = 109.201</text>\n</g>\n<!-- 44&#45;&gt;46 -->\n<g id=\"edge46\" class=\"edge\">\n<title>44&#45;&gt;46</title>\n<path fill=\"none\" stroke=\"black\" d=\"M3230.11,-88.95C3248.02,-78.93 3267.61,-67.98 3285.23,-58.13\"/>\n<polygon fill=\"black\" stroke=\"black\" points=\"3287.22,-61.02 3294.24,-53.09 3283.81,-54.91 3287.22,-61.02\"/>\n</g>\n</g>\n</svg>\n",
            "text/plain": [
              "<graphviz.sources.Source at 0x7f3886805510>"
            ]
          },
          "metadata": {},
          "execution_count": 39
        }
      ]
    },
    {
      "cell_type": "code",
      "source": [
        "show_model_performance(X, y, tree_model, tree_prediction)"
      ],
      "metadata": {
        "colab": {
          "base_uri": "https://localhost:8080/"
        },
        "id": "Q1boaMyORwbB",
        "outputId": "648b16ff-5883-4562-e300-ffb035cbfe94"
      },
      "execution_count": 40,
      "outputs": [
        {
          "output_type": "stream",
          "name": "stdout",
          "text": [
            "Without train/test CV:\n",
            "MSE: 40.938744699631\n",
            "RMSE: 6.39833921417355\n",
            "MAE: 4.467288400456557\n",
            "\n",
            "With train/test CV:\n",
            "MSE: 263.80690487671666\n",
            "RMSE: 14.300604214598769\n",
            "MAE: 8.629181321018024\n"
          ]
        }
      ]
    },
    {
      "cell_type": "markdown",
      "source": [
        "This model is also more effective than guessing, but it doesn't improve on the one that came out of the ridge regression. Next, we can try XGBoost:"
      ],
      "metadata": {
        "id": "pbNJTSh27gHF"
      }
    },
    {
      "cell_type": "code",
      "source": [
        "def basic_xgb_model(X_train, y_train):\n",
        "    dtrain = xgb.DMatrix(X_train, label=y_train)\n",
        "    param = {'max_depth': 3, 'eta': 0.3, 'objective': 'reg:squarederror'}\n",
        "    num_round = 10\n",
        "    bst = xgb.train(param, dtrain, num_round)\n",
        "    return bst\n",
        "\n",
        "def basic_xgb_prediction(model, X_test):\n",
        "    return model.predict(xgb.DMatrix(X_test))\n",
        "\n",
        "show_model_performance(X, y, basic_xgb_model, basic_xgb_prediction)"
      ],
      "metadata": {
        "colab": {
          "base_uri": "https://localhost:8080/"
        },
        "id": "ltAVMvJlU0O0",
        "outputId": "883d994a-b17f-4b8d-d97f-384bf963421e"
      },
      "execution_count": 41,
      "outputs": [
        {
          "output_type": "stream",
          "name": "stdout",
          "text": [
            "Without train/test CV:\n",
            "MSE: 36.86439597231697\n",
            "RMSE: 6.071605716144369\n",
            "MAE: 4.489173518371313\n",
            "\n",
            "With train/test CV:\n",
            "MSE: 164.0251598928939\n",
            "RMSE: 11.41612978444372\n",
            "MAE: 7.4470508100618265\n"
          ]
        }
      ]
    },
    {
      "cell_type": "markdown",
      "source": [
        "We were able to get performance comparable to the ridge regression with XGBoost using basic values for the parameters. This means we might be able to get our best model yet, if we fine-tune the parameters:"
      ],
      "metadata": {
        "id": "hJoTrJwv7vtl"
      }
    },
    {
      "cell_type": "code",
      "source": [
        "xgb_model = xgb.XGBRegressor(objective = 'reg:squarederror')\n",
        "\n",
        "params = {\n",
        "    'colsample_bytree': uniform(0.7, 0.3),\n",
        "    'gamma': uniform(0, 0.5),\n",
        "    'learning_rate': uniform(0.03, 0.3),\n",
        "    'max_depth': randint(2, 6),\n",
        "    'n_estimators': randint(100, 150),\n",
        "    'subsample': uniform(0.6, 0.4)\n",
        "}\n",
        "\n",
        "search = RandomizedSearchCV(xgb_model, param_distributions=params, n_iter=200, cv=5, verbose=1, n_jobs=1, return_train_score=True, scoring = 'neg_mean_squared_error')\n",
        "\n",
        "search.fit(X, y)"
      ],
      "metadata": {
        "colab": {
          "base_uri": "https://localhost:8080/",
          "height": 135
        },
        "id": "gqn74cLDUaCV",
        "outputId": "8b2cb565-4f73-4357-e167-cd70de1b836b"
      },
      "execution_count": 42,
      "outputs": [
        {
          "output_type": "stream",
          "name": "stdout",
          "text": [
            "Fitting 5 folds for each of 200 candidates, totalling 1000 fits\n"
          ]
        },
        {
          "output_type": "execute_result",
          "data": {
            "text/plain": [
              "RandomizedSearchCV(cv=5,\n",
              "                   estimator=XGBRegressor(base_score=None, booster=None,\n",
              "                                          callbacks=None,\n",
              "                                          colsample_bylevel=None,\n",
              "                                          colsample_bynode=None,\n",
              "                                          colsample_bytree=None,\n",
              "                                          early_stopping_rounds=None,\n",
              "                                          enable_categorical=False,\n",
              "                                          eval_metric=None, feature_types=None,\n",
              "                                          gamma=None, gpu_id=None,\n",
              "                                          grow_policy=None,\n",
              "                                          importance_type=None,\n",
              "                                          interaction_constraints=None,\n",
              "                                          learning_rate=...\n",
              "                                        'learning_rate': <scipy.stats._distn_infrastructure.rv_continuous_frozen object at 0x7f3886684520>,\n",
              "                                        'max_depth': <scipy.stats._distn_infrastructure.rv_discrete_frozen object at 0x7f3886684f70>,\n",
              "                                        'n_estimators': <scipy.stats._distn_infrastructure.rv_discrete_frozen object at 0x7f3886684c70>,\n",
              "                                        'subsample': <scipy.stats._distn_infrastructure.rv_continuous_frozen object at 0x7f38866853c0>},\n",
              "                   return_train_score=True, scoring='neg_mean_squared_error',\n",
              "                   verbose=1)"
            ],
            "text/html": [
              "<style>#sk-container-id-4 {color: black;background-color: white;}#sk-container-id-4 pre{padding: 0;}#sk-container-id-4 div.sk-toggleable {background-color: white;}#sk-container-id-4 label.sk-toggleable__label {cursor: pointer;display: block;width: 100%;margin-bottom: 0;padding: 0.3em;box-sizing: border-box;text-align: center;}#sk-container-id-4 label.sk-toggleable__label-arrow:before {content: \"▸\";float: left;margin-right: 0.25em;color: #696969;}#sk-container-id-4 label.sk-toggleable__label-arrow:hover:before {color: black;}#sk-container-id-4 div.sk-estimator:hover label.sk-toggleable__label-arrow:before {color: black;}#sk-container-id-4 div.sk-toggleable__content {max-height: 0;max-width: 0;overflow: hidden;text-align: left;background-color: #f0f8ff;}#sk-container-id-4 div.sk-toggleable__content pre {margin: 0.2em;color: black;border-radius: 0.25em;background-color: #f0f8ff;}#sk-container-id-4 input.sk-toggleable__control:checked~div.sk-toggleable__content {max-height: 200px;max-width: 100%;overflow: auto;}#sk-container-id-4 input.sk-toggleable__control:checked~label.sk-toggleable__label-arrow:before {content: \"▾\";}#sk-container-id-4 div.sk-estimator input.sk-toggleable__control:checked~label.sk-toggleable__label {background-color: #d4ebff;}#sk-container-id-4 div.sk-label input.sk-toggleable__control:checked~label.sk-toggleable__label {background-color: #d4ebff;}#sk-container-id-4 input.sk-hidden--visually {border: 0;clip: rect(1px 1px 1px 1px);clip: rect(1px, 1px, 1px, 1px);height: 1px;margin: -1px;overflow: hidden;padding: 0;position: absolute;width: 1px;}#sk-container-id-4 div.sk-estimator {font-family: monospace;background-color: #f0f8ff;border: 1px dotted black;border-radius: 0.25em;box-sizing: border-box;margin-bottom: 0.5em;}#sk-container-id-4 div.sk-estimator:hover {background-color: #d4ebff;}#sk-container-id-4 div.sk-parallel-item::after {content: \"\";width: 100%;border-bottom: 1px solid gray;flex-grow: 1;}#sk-container-id-4 div.sk-label:hover label.sk-toggleable__label {background-color: #d4ebff;}#sk-container-id-4 div.sk-serial::before {content: \"\";position: absolute;border-left: 1px solid gray;box-sizing: border-box;top: 0;bottom: 0;left: 50%;z-index: 0;}#sk-container-id-4 div.sk-serial {display: flex;flex-direction: column;align-items: center;background-color: white;padding-right: 0.2em;padding-left: 0.2em;position: relative;}#sk-container-id-4 div.sk-item {position: relative;z-index: 1;}#sk-container-id-4 div.sk-parallel {display: flex;align-items: stretch;justify-content: center;background-color: white;position: relative;}#sk-container-id-4 div.sk-item::before, #sk-container-id-4 div.sk-parallel-item::before {content: \"\";position: absolute;border-left: 1px solid gray;box-sizing: border-box;top: 0;bottom: 0;left: 50%;z-index: -1;}#sk-container-id-4 div.sk-parallel-item {display: flex;flex-direction: column;z-index: 1;position: relative;background-color: white;}#sk-container-id-4 div.sk-parallel-item:first-child::after {align-self: flex-end;width: 50%;}#sk-container-id-4 div.sk-parallel-item:last-child::after {align-self: flex-start;width: 50%;}#sk-container-id-4 div.sk-parallel-item:only-child::after {width: 0;}#sk-container-id-4 div.sk-dashed-wrapped {border: 1px dashed gray;margin: 0 0.4em 0.5em 0.4em;box-sizing: border-box;padding-bottom: 0.4em;background-color: white;}#sk-container-id-4 div.sk-label label {font-family: monospace;font-weight: bold;display: inline-block;line-height: 1.2em;}#sk-container-id-4 div.sk-label-container {text-align: center;}#sk-container-id-4 div.sk-container {/* jupyter's `normalize.less` sets `[hidden] { display: none; }` but bootstrap.min.css set `[hidden] { display: none !important; }` so we also need the `!important` here to be able to override the default hidden behavior on the sphinx rendered scikit-learn.org. See: https://github.com/scikit-learn/scikit-learn/issues/21755 */display: inline-block !important;position: relative;}#sk-container-id-4 div.sk-text-repr-fallback {display: none;}</style><div id=\"sk-container-id-4\" class=\"sk-top-container\"><div class=\"sk-text-repr-fallback\"><pre>RandomizedSearchCV(cv=5,\n",
              "                   estimator=XGBRegressor(base_score=None, booster=None,\n",
              "                                          callbacks=None,\n",
              "                                          colsample_bylevel=None,\n",
              "                                          colsample_bynode=None,\n",
              "                                          colsample_bytree=None,\n",
              "                                          early_stopping_rounds=None,\n",
              "                                          enable_categorical=False,\n",
              "                                          eval_metric=None, feature_types=None,\n",
              "                                          gamma=None, gpu_id=None,\n",
              "                                          grow_policy=None,\n",
              "                                          importance_type=None,\n",
              "                                          interaction_constraints=None,\n",
              "                                          learning_rate=...\n",
              "                                        &#x27;learning_rate&#x27;: &lt;scipy.stats._distn_infrastructure.rv_continuous_frozen object at 0x7f3886684520&gt;,\n",
              "                                        &#x27;max_depth&#x27;: &lt;scipy.stats._distn_infrastructure.rv_discrete_frozen object at 0x7f3886684f70&gt;,\n",
              "                                        &#x27;n_estimators&#x27;: &lt;scipy.stats._distn_infrastructure.rv_discrete_frozen object at 0x7f3886684c70&gt;,\n",
              "                                        &#x27;subsample&#x27;: &lt;scipy.stats._distn_infrastructure.rv_continuous_frozen object at 0x7f38866853c0&gt;},\n",
              "                   return_train_score=True, scoring=&#x27;neg_mean_squared_error&#x27;,\n",
              "                   verbose=1)</pre><b>In a Jupyter environment, please rerun this cell to show the HTML representation or trust the notebook. <br />On GitHub, the HTML representation is unable to render, please try loading this page with nbviewer.org.</b></div><div class=\"sk-container\" hidden><div class=\"sk-item sk-dashed-wrapped\"><div class=\"sk-label-container\"><div class=\"sk-label sk-toggleable\"><input class=\"sk-toggleable__control sk-hidden--visually\" id=\"sk-estimator-id-6\" type=\"checkbox\" ><label for=\"sk-estimator-id-6\" class=\"sk-toggleable__label sk-toggleable__label-arrow\">RandomizedSearchCV</label><div class=\"sk-toggleable__content\"><pre>RandomizedSearchCV(cv=5,\n",
              "                   estimator=XGBRegressor(base_score=None, booster=None,\n",
              "                                          callbacks=None,\n",
              "                                          colsample_bylevel=None,\n",
              "                                          colsample_bynode=None,\n",
              "                                          colsample_bytree=None,\n",
              "                                          early_stopping_rounds=None,\n",
              "                                          enable_categorical=False,\n",
              "                                          eval_metric=None, feature_types=None,\n",
              "                                          gamma=None, gpu_id=None,\n",
              "                                          grow_policy=None,\n",
              "                                          importance_type=None,\n",
              "                                          interaction_constraints=None,\n",
              "                                          learning_rate=...\n",
              "                                        &#x27;learning_rate&#x27;: &lt;scipy.stats._distn_infrastructure.rv_continuous_frozen object at 0x7f3886684520&gt;,\n",
              "                                        &#x27;max_depth&#x27;: &lt;scipy.stats._distn_infrastructure.rv_discrete_frozen object at 0x7f3886684f70&gt;,\n",
              "                                        &#x27;n_estimators&#x27;: &lt;scipy.stats._distn_infrastructure.rv_discrete_frozen object at 0x7f3886684c70&gt;,\n",
              "                                        &#x27;subsample&#x27;: &lt;scipy.stats._distn_infrastructure.rv_continuous_frozen object at 0x7f38866853c0&gt;},\n",
              "                   return_train_score=True, scoring=&#x27;neg_mean_squared_error&#x27;,\n",
              "                   verbose=1)</pre></div></div></div><div class=\"sk-parallel\"><div class=\"sk-parallel-item\"><div class=\"sk-item\"><div class=\"sk-label-container\"><div class=\"sk-label sk-toggleable\"><input class=\"sk-toggleable__control sk-hidden--visually\" id=\"sk-estimator-id-7\" type=\"checkbox\" ><label for=\"sk-estimator-id-7\" class=\"sk-toggleable__label sk-toggleable__label-arrow\">estimator: XGBRegressor</label><div class=\"sk-toggleable__content\"><pre>XGBRegressor(base_score=None, booster=None, callbacks=None,\n",
              "             colsample_bylevel=None, colsample_bynode=None,\n",
              "             colsample_bytree=None, early_stopping_rounds=None,\n",
              "             enable_categorical=False, eval_metric=None, feature_types=None,\n",
              "             gamma=None, gpu_id=None, grow_policy=None, importance_type=None,\n",
              "             interaction_constraints=None, learning_rate=None, max_bin=None,\n",
              "             max_cat_threshold=None, max_cat_to_onehot=None,\n",
              "             max_delta_step=None, max_depth=None, max_leaves=None,\n",
              "             min_child_weight=None, missing=nan, monotone_constraints=None,\n",
              "             n_estimators=100, n_jobs=None, num_parallel_tree=None,\n",
              "             predictor=None, random_state=None, ...)</pre></div></div></div><div class=\"sk-serial\"><div class=\"sk-item\"><div class=\"sk-estimator sk-toggleable\"><input class=\"sk-toggleable__control sk-hidden--visually\" id=\"sk-estimator-id-8\" type=\"checkbox\" ><label for=\"sk-estimator-id-8\" class=\"sk-toggleable__label sk-toggleable__label-arrow\">XGBRegressor</label><div class=\"sk-toggleable__content\"><pre>XGBRegressor(base_score=None, booster=None, callbacks=None,\n",
              "             colsample_bylevel=None, colsample_bynode=None,\n",
              "             colsample_bytree=None, early_stopping_rounds=None,\n",
              "             enable_categorical=False, eval_metric=None, feature_types=None,\n",
              "             gamma=None, gpu_id=None, grow_policy=None, importance_type=None,\n",
              "             interaction_constraints=None, learning_rate=None, max_bin=None,\n",
              "             max_cat_threshold=None, max_cat_to_onehot=None,\n",
              "             max_delta_step=None, max_depth=None, max_leaves=None,\n",
              "             min_child_weight=None, missing=nan, monotone_constraints=None,\n",
              "             n_estimators=100, n_jobs=None, num_parallel_tree=None,\n",
              "             predictor=None, random_state=None, ...)</pre></div></div></div></div></div></div></div></div></div></div>"
            ]
          },
          "metadata": {},
          "execution_count": 42
        }
      ]
    },
    {
      "cell_type": "code",
      "source": [
        "def xgb_model(X_train, y_train):\n",
        "    model = xgb.XGBRegressor(objective = 'reg:squarederror')\n",
        "    model.set_params(**search.best_params_)\n",
        "    model.fit(X_train, y_train)\n",
        "    return model\n",
        "\n",
        "def xgb_prediction(model, X_test):\n",
        "    return model.predict(X_test)\n",
        "\n",
        "show_model_performance(X, y, xgb_model, xgb_prediction)"
      ],
      "metadata": {
        "colab": {
          "base_uri": "https://localhost:8080/"
        },
        "id": "kVezOLV9WI86",
        "outputId": "32f1f0ae-f8b7-4688-9493-7af2bae7a1ed"
      },
      "execution_count": 43,
      "outputs": [
        {
          "output_type": "stream",
          "name": "stdout",
          "text": [
            "Without train/test CV:\n",
            "MSE: 0.3964586190280614\n",
            "RMSE: 0.6296496001968567\n",
            "MAE: 0.4882476549703371\n",
            "\n",
            "With train/test CV:\n",
            "MSE: 136.8535572380936\n",
            "RMSE: 10.453957132059735\n",
            "MAE: 6.883997208447934\n"
          ]
        }
      ]
    },
    {
      "cell_type": "markdown",
      "source": [
        "So far, the best model was able to predict homelessness rates (counter per 10,000) with a mean absolute error of 6.88. Let's investigate what predictors are most influential in these estimates:"
      ],
      "metadata": {
        "id": "H65KZxOZ8KtF"
      }
    },
    {
      "cell_type": "code",
      "source": [
        "model = xgb_model(X, y)\n",
        "\n",
        "importances = pd.DataFrame({\n",
        "    'predictor': X.columns, \n",
        "    'importance': model.feature_importances_\n",
        "}).sort_values('importance', ascending=False)\n",
        "\n",
        "importances.plot('predictor', 'importance', 'barh', legend = False,\n",
        "                 figsize = (8, 8))\n",
        "plt.ylabel('Predictor')\n",
        "plt.xlabel('Variable Importance', fontsize = 15)\n",
        "\n",
        "plt.tick_params(labelsize = 8)"
      ],
      "metadata": {
        "colab": {
          "base_uri": "https://localhost:8080/",
          "height": 566
        },
        "id": "QR9BDN-sJ6JK",
        "outputId": "53e6fb87-cb4e-4791-b003-27f611c6ea81"
      },
      "execution_count": 44,
      "outputs": [
        {
          "output_type": "display_data",
          "data": {
            "text/plain": [
              "<Figure size 800x800 with 1 Axes>"
            ],
            "image/png": "[encoded data removed]"
          },
          "metadata": {}
        }
      ]
    },
    {
      "cell_type": "markdown",
      "source": [
        "This looks fairly different from our original OLS model, but the OLS model did not perform better than guessing.\n",
        "\n",
        "From this plot, we can tell that the biggest predictors of homelessness are:\n",
        "\n",
        "* Share of housing units that are rented as opposed to owned\n",
        "* Precipitation in January\n",
        "* How much of the population is under 19\n",
        "* The median rent in the area\n",
        "* The proportion of overcrowded housing units\n",
        "* The age of the houses (what proportion of them were built before 1940)\n",
        "\n"
      ],
      "metadata": {
        "id": "JMIfGafiLU8l"
      }
    },
    {
      "cell_type": "markdown",
      "source": [
        "### Additional Step: Funding Data"
      ],
      "metadata": {
        "id": "KM6hbIa8RHB0"
      }
    },
    {
      "cell_type": "markdown",
      "source": [
        "We'll make an adjusted version of `X` to include federal funding data, to see if it helps the performance of our models:"
      ],
      "metadata": {
        "id": "xKKN-YOARfkt"
      }
    },
    {
      "cell_type": "code",
      "source": [
        "X_adj = X.copy()\n",
        "X_adj['federal_funding'] = df['federal_funding']\n",
        "X_adj['federal_funding_change'] = df['federal_funding_change']"
      ],
      "metadata": {
        "id": "3sGBRfqtRfTw"
      },
      "execution_count": 45,
      "outputs": []
    },
    {
      "cell_type": "markdown",
      "source": [
        "We start with our XGBoost model:"
      ],
      "metadata": {
        "id": "LK7zQFKiRp2S"
      }
    },
    {
      "cell_type": "code",
      "source": [
        "show_model_performance(X_adj, y, xgb_model, xgb_prediction)"
      ],
      "metadata": {
        "colab": {
          "base_uri": "https://localhost:8080/"
        },
        "id": "GB-QN5yn1rGV",
        "outputId": "f767a958-6f1f-40d8-abd1-b89bec0b3d95"
      },
      "execution_count": 46,
      "outputs": [
        {
          "output_type": "stream",
          "name": "stdout",
          "text": [
            "Without train/test CV:\n",
            "MSE: 0.5274916655286435\n",
            "RMSE: 0.7262862146073292\n",
            "MAE: 0.551602178184999\n",
            "\n",
            "With train/test CV:\n",
            "MSE: 136.6927950889866\n",
            "RMSE: 10.492696785119534\n",
            "MAE: 6.829000168052249\n"
          ]
        }
      ]
    },
    {
      "cell_type": "markdown",
      "source": [
        "Looks like it didn't help us here. The fine-tuned parameters for the XGBoost model didn't account for the federal funding data, so maybe we'll see a difference if we make a new OLS model:"
      ],
      "metadata": {
        "id": "IkYfBzYWRvRe"
      }
    },
    {
      "cell_type": "code",
      "source": [
        "show_model_performance(X_adj, y, ols_model, ols_prediction)"
      ],
      "metadata": {
        "colab": {
          "base_uri": "https://localhost:8080/"
        },
        "id": "MByBh2j0SFrp",
        "outputId": "31dfc6f6-7ace-4348-8743-6f9483a61314"
      },
      "execution_count": 47,
      "outputs": [
        {
          "output_type": "stream",
          "name": "stdout",
          "text": [
            "Without train/test CV:\n",
            "MSE: 95.91966498449072\n",
            "RMSE: 9.793858534024816\n",
            "MAE: 6.588103841430767\n",
            "\n",
            "With train/test CV:\n",
            "MSE: 176.91319046334942\n",
            "RMSE: 12.31805293990953\n",
            "MAE: 8.292509775037217\n"
          ]
        }
      ]
    },
    {
      "cell_type": "markdown",
      "source": [
        "This isn't any better, either. Out of curiosity, let's check and see if the XGBoost model made any significant use of the federal funding predictors, in place of something else:"
      ],
      "metadata": {
        "id": "rcUiNYV_STg0"
      }
    },
    {
      "cell_type": "code",
      "source": [
        "model = xgb_model(X_adj, y)\n",
        "\n",
        "pd.DataFrame({\n",
        "    'predictor': X_adj.columns, \n",
        "    'importance': model.feature_importances_\n",
        "}).sort_values('importance', ascending=False)"
      ],
      "metadata": {
        "colab": {
          "base_uri": "https://localhost:8080/",
          "height": 1000
        },
        "id": "k0gT_6UgSepH",
        "outputId": "b64ee859-6264-40eb-a747-9b0912eb2d43"
      },
      "execution_count": 48,
      "outputs": [
        {
          "output_type": "execute_result",
          "data": {
            "text/plain": [
              "                                     predictor  importance\n",
              "6                           share_renters_2016    0.176258\n",
              "35                               rate_age_0_19    0.096558\n",
              "28                  average_summer_temperature    0.086445\n",
              "10                share_overcrowded_units_2016    0.063943\n",
              "29                     total_jan_precipitation    0.057481\n",
              "31                                  rate_black    0.050087\n",
              "16                             share_hud_units    0.047992\n",
              "27                     average_jan_temperature    0.034473\n",
              "11                               city_or_urban    0.032181\n",
              "2                              log_median_rent    0.030337\n",
              "26               percentage_excessive_drinking    0.029848\n",
              "21            proportion_one_person_households    0.028792\n",
              "34                       rate_pacific_islander    0.027926\n",
              "1                       house_price_index_2009    0.022105\n",
              "18                     share_built_before_1940    0.021507\n",
              "36                            rate_age_65_plus    0.020298\n",
              "20                     migration_4_year_change    0.016969\n",
              "37                                 rate_female    0.016682\n",
              "0                             total_population    0.012723\n",
              "17                     HUD_unit_occupancy_rate    0.011724\n",
              "3                                utility_costs    0.011322\n",
              "5   percentage_renters_severe_cost_burden_2016    0.010828\n",
              "19                               net_migration    0.009787\n",
              "33                                  rate_asian    0.009560\n",
              "4           percentage_owners_cost_burden_2016    0.009530\n",
              "25        medicare_reimbursements_per_enrollee    0.008297\n",
              "22           share_under_18_with_single_parent    0.008240\n",
              "30                  total_annual_precipitation    0.008136\n",
              "24                          share_no_bachelors    0.005666\n",
              "13                           rate_unemployment    0.005466\n",
              "38                             federal_funding    0.005036\n",
              "14                       gini_coefficient_2016    0.004173\n",
              "9                              number_eviction    0.003967\n",
              "32                        rate_latino_hispanic    0.003783\n",
              "15                                poverty_rate    0.003644\n",
              "7                          rental_vacancy_rate    0.003033\n",
              "39                      federal_funding_change    0.002802\n",
              "23                        share_veteran_status    0.002400\n",
              "8                         high_housing_density    0.000000\n",
              "12                                    suburban    0.000000"
            ],
            "text/html": [
              "\n",
              "  <div id=\"df-b97cb96c-fe95-4f99-8ee8-de338964cadc\">\n",
              "    <div class=\"colab-df-container\">\n",
              "      <div>\n",
              "<style scoped>\n",
              "    .dataframe tbody tr th:only-of-type {\n",
              "        vertical-align: middle;\n",
              "    }\n",
              "\n",
              "    .dataframe tbody tr th {\n",
              "        vertical-align: top;\n",
              "    }\n",
              "\n",
              "    .dataframe thead th {\n",
              "        text-align: right;\n",
              "    }\n",
              "</style>\n",
              "<table border=\"1\" class=\"dataframe\">\n",
              "  <thead>\n",
              "    <tr style=\"text-align: right;\">\n",
              "      <th></th>\n",
              "      <th>predictor</th>\n",
              "      <th>importance</th>\n",
              "    </tr>\n",
              "  </thead>\n",
              "  <tbody>\n",
              "    <tr>\n",
              "      <th>6</th>\n",
              "      <td>share_renters_2016</td>\n",
              "      <td>0.176258</td>\n",
              "    </tr>\n",
              "    <tr>\n",
              "      <th>35</th>\n",
              "      <td>rate_age_0_19</td>\n",
              "      <td>0.096558</td>\n",
              "    </tr>\n",
              "    <tr>\n",
              "      <th>28</th>\n",
              "      <td>average_summer_temperature</td>\n",
              "      <td>0.086445</td>\n",
              "    </tr>\n",
              "    <tr>\n",
              "      <th>10</th>\n",
              "      <td>share_overcrowded_units_2016</td>\n",
              "      <td>0.063943</td>\n",
              "    </tr>\n",
              "    <tr>\n",
              "      <th>29</th>\n",
              "      <td>total_jan_precipitation</td>\n",
              "      <td>0.057481</td>\n",
              "    </tr>\n",
              "    <tr>\n",
              "      <th>31</th>\n",
              "      <td>rate_black</td>\n",
              "      <td>0.050087</td>\n",
              "    </tr>\n",
              "    <tr>\n",
              "      <th>16</th>\n",
              "      <td>share_hud_units</td>\n",
              "      <td>0.047992</td>\n",
              "    </tr>\n",
              "    <tr>\n",
              "      <th>27</th>\n",
              "      <td>average_jan_temperature</td>\n",
              "      <td>0.034473</td>\n",
              "    </tr>\n",
              "    <tr>\n",
              "      <th>11</th>\n",
              "      <td>city_or_urban</td>\n",
              "      <td>0.032181</td>\n",
              "    </tr>\n",
              "    <tr>\n",
              "      <th>2</th>\n",
              "      <td>log_median_rent</td>\n",
              "      <td>0.030337</td>\n",
              "    </tr>\n",
              "    <tr>\n",
              "      <th>26</th>\n",
              "      <td>percentage_excessive_drinking</td>\n",
              "      <td>0.029848</td>\n",
              "    </tr>\n",
              "    <tr>\n",
              "      <th>21</th>\n",
              "      <td>proportion_one_person_households</td>\n",
              "      <td>0.028792</td>\n",
              "    </tr>\n",
              "    <tr>\n",
              "      <th>34</th>\n",
              "      <td>rate_pacific_islander</td>\n",
              "      <td>0.027926</td>\n",
              "    </tr>\n",
              "    <tr>\n",
              "      <th>1</th>\n",
              "      <td>house_price_index_2009</td>\n",
              "      <td>0.022105</td>\n",
              "    </tr>\n",
              "    <tr>\n",
              "      <th>18</th>\n",
              "      <td>share_built_before_1940</td>\n",
              "      <td>0.021507</td>\n",
              "    </tr>\n",
              "    <tr>\n",
              "      <th>36</th>\n",
              "      <td>rate_age_65_plus</td>\n",
              "      <td>0.020298</td>\n",
              "    </tr>\n",
              "    <tr>\n",
              "      <th>20</th>\n",
              "      <td>migration_4_year_change</td>\n",
              "      <td>0.016969</td>\n",
              "    </tr>\n",
              "    <tr>\n",
              "      <th>37</th>\n",
              "      <td>rate_female</td>\n",
              "      <td>0.016682</td>\n",
              "    </tr>\n",
              "    <tr>\n",
              "      <th>0</th>\n",
              "      <td>total_population</td>\n",
              "      <td>0.012723</td>\n",
              "    </tr>\n",
              "    <tr>\n",
              "      <th>17</th>\n",
              "      <td>HUD_unit_occupancy_rate</td>\n",
              "      <td>0.011724</td>\n",
              "    </tr>\n",
              "    <tr>\n",
              "      <th>3</th>\n",
              "      <td>utility_costs</td>\n",
              "      <td>0.011322</td>\n",
              "    </tr>\n",
              "    <tr>\n",
              "      <th>5</th>\n",
              "      <td>percentage_renters_severe_cost_burden_2016</td>\n",
              "      <td>0.010828</td>\n",
              "    </tr>\n",
              "    <tr>\n",
              "      <th>19</th>\n",
              "      <td>net_migration</td>\n",
              "      <td>0.009787</td>\n",
              "    </tr>\n",
              "    <tr>\n",
              "      <th>33</th>\n",
              "      <td>rate_asian</td>\n",
              "      <td>0.009560</td>\n",
              "    </tr>\n",
              "    <tr>\n",
              "      <th>4</th>\n",
              "      <td>percentage_owners_cost_burden_2016</td>\n",
              "      <td>0.009530</td>\n",
              "    </tr>\n",
              "    <tr>\n",
              "      <th>25</th>\n",
              "      <td>medicare_reimbursements_per_enrollee</td>\n",
              "      <td>0.008297</td>\n",
              "    </tr>\n",
              "    <tr>\n",
              "      <th>22</th>\n",
              "      <td>share_under_18_with_single_parent</td>\n",
              "      <td>0.008240</td>\n",
              "    </tr>\n",
              "    <tr>\n",
              "      <th>30</th>\n",
              "      <td>total_annual_precipitation</td>\n",
              "      <td>0.008136</td>\n",
              "    </tr>\n",
              "    <tr>\n",
              "      <th>24</th>\n",
              "      <td>share_no_bachelors</td>\n",
              "      <td>0.005666</td>\n",
              "    </tr>\n",
              "    <tr>\n",
              "      <th>13</th>\n",
              "      <td>rate_unemployment</td>\n",
              "      <td>0.005466</td>\n",
              "    </tr>\n",
              "    <tr>\n",
              "      <th>38</th>\n",
              "      <td>federal_funding</td>\n",
              "      <td>0.005036</td>\n",
              "    </tr>\n",
              "    <tr>\n",
              "      <th>14</th>\n",
              "      <td>gini_coefficient_2016</td>\n",
              "      <td>0.004173</td>\n",
              "    </tr>\n",
              "    <tr>\n",
              "      <th>9</th>\n",
              "      <td>number_eviction</td>\n",
              "      <td>0.003967</td>\n",
              "    </tr>\n",
              "    <tr>\n",
              "      <th>32</th>\n",
              "      <td>rate_latino_hispanic</td>\n",
              "      <td>0.003783</td>\n",
              "    </tr>\n",
              "    <tr>\n",
              "      <th>15</th>\n",
              "      <td>poverty_rate</td>\n",
              "      <td>0.003644</td>\n",
              "    </tr>\n",
              "    <tr>\n",
              "      <th>7</th>\n",
              "      <td>rental_vacancy_rate</td>\n",
              "      <td>0.003033</td>\n",
              "    </tr>\n",
              "    <tr>\n",
              "      <th>39</th>\n",
              "      <td>federal_funding_change</td>\n",
              "      <td>0.002802</td>\n",
              "    </tr>\n",
              "    <tr>\n",
              "      <th>23</th>\n",
              "      <td>share_veteran_status</td>\n",
              "      <td>0.002400</td>\n",
              "    </tr>\n",
              "    <tr>\n",
              "      <th>8</th>\n",
              "      <td>high_housing_density</td>\n",
              "      <td>0.000000</td>\n",
              "    </tr>\n",
              "    <tr>\n",
              "      <th>12</th>\n",
              "      <td>suburban</td>\n",
              "      <td>0.000000</td>\n",
              "    </tr>\n",
              "  </tbody>\n",
              "</table>\n",
              "</div>\n",
              "      <button class=\"colab-df-convert\" onclick=\"convertToInteractive('df-b97cb96c-fe95-4f99-8ee8-de338964cadc')\"\n",
              "              title=\"Convert this dataframe to an interactive table.\"\n",
              "              style=\"display:none;\">\n",
              "        \n",
              "  <svg xmlns=\"http://www.w3.org/2000/svg\" height=\"24px\"viewBox=\"0 0 24 24\"\n",
              "       width=\"24px\">\n",
              "    <path d=\"M0 0h24v24H0V0z\" fill=\"none\"/>\n",
              "    <path d=\"M18.56 5.44l.94 2.06.94-2.06 2.06-.94-2.06-.94-.94-2.06-.94 2.06-2.06.94zm-11 1L8.5 8.5l.94-2.06 2.06-.94-2.06-.94L8.5 2.5l-.94 2.06-2.06.94zm10 10l.94 2.06.94-2.06 2.06-.94-2.06-.94-.94-2.06-.94 2.06-2.06.94z\"/><path d=\"M17.41 7.96l-1.37-1.37c-.4-.4-.92-.59-1.43-.59-.52 0-1.04.2-1.43.59L10.3 9.45l-7.72 7.72c-.78.78-.78 2.05 0 2.83L4 21.41c.39.39.9.59 1.41.59.51 0 1.02-.2 1.41-.59l7.78-7.78 2.81-2.81c.8-.78.8-2.07 0-2.86zM5.41 20L4 18.59l7.72-7.72 1.47 1.35L5.41 20z\"/>\n",
              "  </svg>\n",
              "      </button>\n",
              "      \n",
              "  <style>\n",
              "    .colab-df-container {\n",
              "      display:flex;\n",
              "      flex-wrap:wrap;\n",
              "      gap: 12px;\n",
              "    }\n",
              "\n",
              "    .colab-df-convert {\n",
              "      background-color: #E8F0FE;\n",
              "      border: none;\n",
              "      border-radius: 50%;\n",
              "      cursor: pointer;\n",
              "      display: none;\n",
              "      fill: #1967D2;\n",
              "      height: 32px;\n",
              "      padding: 0 0 0 0;\n",
              "      width: 32px;\n",
              "    }\n",
              "\n",
              "    .colab-df-convert:hover {\n",
              "      background-color: #E2EBFA;\n",
              "      box-shadow: 0px 1px 2px rgba(60, 64, 67, 0.3), 0px 1px 3px 1px rgba(60, 64, 67, 0.15);\n",
              "      fill: #174EA6;\n",
              "    }\n",
              "\n",
              "    [theme=dark] .colab-df-convert {\n",
              "      background-color: #3B4455;\n",
              "      fill: #D2E3FC;\n",
              "    }\n",
              "\n",
              "    [theme=dark] .colab-df-convert:hover {\n",
              "      background-color: #434B5C;\n",
              "      box-shadow: 0px 1px 3px 1px rgba(0, 0, 0, 0.15);\n",
              "      filter: drop-shadow(0px 1px 2px rgba(0, 0, 0, 0.3));\n",
              "      fill: #FFFFFF;\n",
              "    }\n",
              "  </style>\n",
              "\n",
              "      <script>\n",
              "        const buttonEl =\n",
              "          document.querySelector('#df-b97cb96c-fe95-4f99-8ee8-de338964cadc button.colab-df-convert');\n",
              "        buttonEl.style.display =\n",
              "          google.colab.kernel.accessAllowed ? 'block' : 'none';\n",
              "\n",
              "        async function convertToInteractive(key) {\n",
              "          const element = document.querySelector('#df-b97cb96c-fe95-4f99-8ee8-de338964cadc');\n",
              "          const dataTable =\n",
              "            await google.colab.kernel.invokeFunction('convertToInteractive',\n",
              "                                                     [key], {});\n",
              "          if (!dataTable) return;\n",
              "\n",
              "          const docLinkHtml = 'Like what you see? Visit the ' +\n",
              "            '<a target=\"_blank\" href=https://colab.research.google.com/notebooks/data_table.ipynb>data table notebook</a>'\n",
              "            + ' to learn more about interactive tables.';\n",
              "          element.innerHTML = '';\n",
              "          dataTable['output_type'] = 'display_data';\n",
              "          await google.colab.output.renderOutput(dataTable, element);\n",
              "          const docLink = document.createElement('div');\n",
              "          docLink.innerHTML = docLinkHtml;\n",
              "          element.appendChild(docLink);\n",
              "        }\n",
              "      </script>\n",
              "    </div>\n",
              "  </div>\n",
              "  "
            ]
          },
          "metadata": {},
          "execution_count": 48
        }
      ]
    },
    {
      "cell_type": "markdown",
      "source": [
        "`federal_funding` and `federal_funding_change` both have an importance under 0.01.\n",
        "\n",
        "We'll try one more thing: can the funding data, by itself, tell us anything about the homelessness rate?"
      ],
      "metadata": {
        "id": "dYL2Z6S_S2yz"
      }
    },
    {
      "cell_type": "code",
      "source": [
        "X_funding = X_adj[['federal_funding', 'federal_funding_change']]\n",
        "show_model_performance(X_funding, y, ols_model, ols_prediction)"
      ],
      "metadata": {
        "colab": {
          "base_uri": "https://localhost:8080/"
        },
        "id": "Uqh94JA56Zgk",
        "outputId": "28e7c99e-c9c4-4e2f-aecc-f3187eab183b"
      },
      "execution_count": 49,
      "outputs": [
        {
          "output_type": "stream",
          "name": "stdout",
          "text": [
            "Without train/test CV:\n",
            "MSE: 217.29777788543495\n",
            "RMSE: 14.74102363763911\n",
            "MAE: 9.115498214498793\n",
            "\n",
            "With train/test CV:\n",
            "MSE: 228.61953964975942\n",
            "RMSE: 13.23609473179763\n",
            "MAE: 9.421818131499233\n"
          ]
        }
      ]
    },
    {
      "cell_type": "markdown",
      "source": [
        "A mean absolute error of 9.42 means that, as the data is, there's not much we can make of it."
      ],
      "metadata": {
        "id": "UPRF8cI3TKIp"
      }
    },
    {
      "cell_type": "markdown",
      "source": [
        "## Conclusion"
      ],
      "metadata": {
        "id": "OClcegJVrF8Y"
      }
    },
    {
      "cell_type": "markdown",
      "source": [
        "\n",
        "This purpose of this analysis was to predict homelessness rates in various cities in the US and to identify which factors contribute most significantly to homelessness rates. The OLS regression model in the preliminary analysis was not helpful, but as different types of models were used we were able to create several that outperform guesses based on average rates. It was discovered that the best model was an XGBoost model with fine-tuned parameters based on the homelessness data. It had a mean absolute error of 6.88. From this model, it looks like the most important factors contributing to homelessness are:\n",
        "* The proportion of housing units that are rented as opposed to owned.\n",
        "* Precipitation in January.\n",
        "* The proportion of the population under 19 years of age.\n",
        "* Median rent in the area.\n",
        "* The proportion of overcrowded housing units.\n",
        "* The age of the houses, particularly the proportion built before 1940.\n",
        "\n",
        "This isn't to say that these directly cause homelessness, rather, that these factors most heavily influence the predictions of the most accurate model, and therefore appear to have a connection to homelessness rates.\n",
        "\n",
        "Some of the models were modified to incorporate federal funding data in an effort to improve the prediction accuracy. No improvement was found by using this data, and the XGBoost model assigned minimal importance to those predictors."
      ],
      "metadata": {
        "id": "45aRW_rjrHT5"
      }
    }
  ]
}